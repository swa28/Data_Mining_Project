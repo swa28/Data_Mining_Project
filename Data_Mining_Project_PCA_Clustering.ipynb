{
 "cells": [
  {
   "cell_type": "markdown",
   "id": "59929dc8",
   "metadata": {},
   "source": [
    "# DATA MINING PROJECT"
   ]
  },
  {
   "cell_type": "markdown",
   "id": "10045bda",
   "metadata": {},
   "source": [
    "# Principal Components Analysis"
   ]
  },
  {
   "cell_type": "markdown",
   "id": "7c398037",
   "metadata": {},
   "source": [
    "## Problem Statement - The ‘Hair Salon.csv’ dataset contains various variables used for the context of Market Segmentation. This particular case study is based on various parameters of a salon chain of hair products. You are expected to do Principal Component Analysis for this case study."
   ]
  },
  {
   "cell_type": "code",
   "execution_count": 23,
   "id": "1bc41312",
   "metadata": {},
   "outputs": [],
   "source": [
    "#Import the basic libraries to get started with EDA\n",
    "import numpy as np\n",
    "import pandas as pd\n",
    "import matplotlib.pyplot as plt\n",
    "import seaborn as sns\n",
    "%matplotlib inline\n",
    "import warnings\n",
    "warnings.filterwarnings(\"ignore\")"
   ]
  },
  {
   "cell_type": "markdown",
   "id": "3e4f3fbe",
   "metadata": {},
   "source": [
    "### Importing data"
   ]
  },
  {
   "cell_type": "code",
   "execution_count": 3,
   "id": "0bf1ebdd",
   "metadata": {},
   "outputs": [],
   "source": [
    "#Read the data\n",
    "df = pd.read_csv(\"Hair Salon.csv\")"
   ]
  },
  {
   "cell_type": "code",
   "execution_count": 4,
   "id": "1f7f0726",
   "metadata": {
    "scrolled": true
   },
   "outputs": [
    {
     "data": {
      "text/html": [
       "<div>\n",
       "<style scoped>\n",
       "    .dataframe tbody tr th:only-of-type {\n",
       "        vertical-align: middle;\n",
       "    }\n",
       "\n",
       "    .dataframe tbody tr th {\n",
       "        vertical-align: top;\n",
       "    }\n",
       "\n",
       "    .dataframe thead th {\n",
       "        text-align: right;\n",
       "    }\n",
       "</style>\n",
       "<table border=\"1\" class=\"dataframe\">\n",
       "  <thead>\n",
       "    <tr style=\"text-align: right;\">\n",
       "      <th></th>\n",
       "      <th>ID</th>\n",
       "      <th>ProdQual</th>\n",
       "      <th>Ecom</th>\n",
       "      <th>TechSup</th>\n",
       "      <th>CompRes</th>\n",
       "      <th>Advertising</th>\n",
       "      <th>ProdLine</th>\n",
       "      <th>SalesFImage</th>\n",
       "      <th>ComPricing</th>\n",
       "      <th>WartyClaim</th>\n",
       "      <th>OrdBilling</th>\n",
       "      <th>DelSpeed</th>\n",
       "      <th>Satisfaction</th>\n",
       "    </tr>\n",
       "  </thead>\n",
       "  <tbody>\n",
       "    <tr>\n",
       "      <th>0</th>\n",
       "      <td>1</td>\n",
       "      <td>8.5</td>\n",
       "      <td>3.9</td>\n",
       "      <td>2.5</td>\n",
       "      <td>5.9</td>\n",
       "      <td>4.8</td>\n",
       "      <td>4.9</td>\n",
       "      <td>6.0</td>\n",
       "      <td>6.8</td>\n",
       "      <td>4.7</td>\n",
       "      <td>5.0</td>\n",
       "      <td>3.7</td>\n",
       "      <td>8.2</td>\n",
       "    </tr>\n",
       "    <tr>\n",
       "      <th>1</th>\n",
       "      <td>2</td>\n",
       "      <td>8.2</td>\n",
       "      <td>2.7</td>\n",
       "      <td>5.1</td>\n",
       "      <td>7.2</td>\n",
       "      <td>3.4</td>\n",
       "      <td>7.9</td>\n",
       "      <td>3.1</td>\n",
       "      <td>5.3</td>\n",
       "      <td>5.5</td>\n",
       "      <td>3.9</td>\n",
       "      <td>4.9</td>\n",
       "      <td>5.7</td>\n",
       "    </tr>\n",
       "    <tr>\n",
       "      <th>2</th>\n",
       "      <td>3</td>\n",
       "      <td>9.2</td>\n",
       "      <td>3.4</td>\n",
       "      <td>5.6</td>\n",
       "      <td>5.6</td>\n",
       "      <td>5.4</td>\n",
       "      <td>7.4</td>\n",
       "      <td>5.8</td>\n",
       "      <td>4.5</td>\n",
       "      <td>6.2</td>\n",
       "      <td>5.4</td>\n",
       "      <td>4.5</td>\n",
       "      <td>8.9</td>\n",
       "    </tr>\n",
       "    <tr>\n",
       "      <th>3</th>\n",
       "      <td>4</td>\n",
       "      <td>6.4</td>\n",
       "      <td>3.3</td>\n",
       "      <td>7.0</td>\n",
       "      <td>3.7</td>\n",
       "      <td>4.7</td>\n",
       "      <td>4.7</td>\n",
       "      <td>4.5</td>\n",
       "      <td>8.8</td>\n",
       "      <td>7.0</td>\n",
       "      <td>4.3</td>\n",
       "      <td>3.0</td>\n",
       "      <td>4.8</td>\n",
       "    </tr>\n",
       "    <tr>\n",
       "      <th>4</th>\n",
       "      <td>5</td>\n",
       "      <td>9.0</td>\n",
       "      <td>3.4</td>\n",
       "      <td>5.2</td>\n",
       "      <td>4.6</td>\n",
       "      <td>2.2</td>\n",
       "      <td>6.0</td>\n",
       "      <td>4.5</td>\n",
       "      <td>6.8</td>\n",
       "      <td>6.1</td>\n",
       "      <td>4.5</td>\n",
       "      <td>3.5</td>\n",
       "      <td>7.1</td>\n",
       "    </tr>\n",
       "  </tbody>\n",
       "</table>\n",
       "</div>"
      ],
      "text/plain": [
       "   ID  ProdQual  Ecom  TechSup  CompRes  Advertising  ProdLine  SalesFImage  \\\n",
       "0   1       8.5   3.9      2.5      5.9          4.8       4.9          6.0   \n",
       "1   2       8.2   2.7      5.1      7.2          3.4       7.9          3.1   \n",
       "2   3       9.2   3.4      5.6      5.6          5.4       7.4          5.8   \n",
       "3   4       6.4   3.3      7.0      3.7          4.7       4.7          4.5   \n",
       "4   5       9.0   3.4      5.2      4.6          2.2       6.0          4.5   \n",
       "\n",
       "   ComPricing  WartyClaim  OrdBilling  DelSpeed  Satisfaction  \n",
       "0         6.8         4.7         5.0       3.7           8.2  \n",
       "1         5.3         5.5         3.9       4.9           5.7  \n",
       "2         4.5         6.2         5.4       4.5           8.9  \n",
       "3         8.8         7.0         4.3       3.0           4.8  \n",
       "4         6.8         6.1         4.5       3.5           7.1  "
      ]
     },
     "execution_count": 4,
     "metadata": {},
     "output_type": "execute_result"
    }
   ],
   "source": [
    "df.head()"
   ]
  },
  {
   "cell_type": "markdown",
   "id": "9c19ac46",
   "metadata": {},
   "source": [
    "### Exploratory Data Analysis"
   ]
  },
  {
   "cell_type": "code",
   "execution_count": 5,
   "id": "f930ec41",
   "metadata": {},
   "outputs": [
    {
     "name": "stdout",
     "output_type": "stream",
     "text": [
      "<class 'pandas.core.frame.DataFrame'>\n",
      "RangeIndex: 100 entries, 0 to 99\n",
      "Data columns (total 13 columns):\n",
      " #   Column        Non-Null Count  Dtype  \n",
      "---  ------        --------------  -----  \n",
      " 0   ID            100 non-null    int64  \n",
      " 1   ProdQual      100 non-null    float64\n",
      " 2   Ecom          100 non-null    float64\n",
      " 3   TechSup       100 non-null    float64\n",
      " 4   CompRes       100 non-null    float64\n",
      " 5   Advertising   100 non-null    float64\n",
      " 6   ProdLine      100 non-null    float64\n",
      " 7   SalesFImage   100 non-null    float64\n",
      " 8   ComPricing    100 non-null    float64\n",
      " 9   WartyClaim    100 non-null    float64\n",
      " 10  OrdBilling    100 non-null    float64\n",
      " 11  DelSpeed      100 non-null    float64\n",
      " 12  Satisfaction  100 non-null    float64\n",
      "dtypes: float64(12), int64(1)\n",
      "memory usage: 10.3 KB\n"
     ]
    }
   ],
   "source": [
    "df.info()"
   ]
  },
  {
   "cell_type": "code",
   "execution_count": 6,
   "id": "2c992021",
   "metadata": {},
   "outputs": [
    {
     "data": {
      "text/plain": [
       "0"
      ]
     },
     "execution_count": 6,
     "metadata": {},
     "output_type": "execute_result"
    }
   ],
   "source": [
    "df.duplicated().sum()"
   ]
  },
  {
   "cell_type": "code",
   "execution_count": 7,
   "id": "5bc37fe2",
   "metadata": {},
   "outputs": [
    {
     "data": {
      "text/plain": [
       "ID              0\n",
       "ProdQual        0\n",
       "Ecom            0\n",
       "TechSup         0\n",
       "CompRes         0\n",
       "Advertising     0\n",
       "ProdLine        0\n",
       "SalesFImage     0\n",
       "ComPricing      0\n",
       "WartyClaim      0\n",
       "OrdBilling      0\n",
       "DelSpeed        0\n",
       "Satisfaction    0\n",
       "dtype: int64"
      ]
     },
     "execution_count": 7,
     "metadata": {},
     "output_type": "execute_result"
    }
   ],
   "source": [
    "df.isnull().sum()"
   ]
  },
  {
   "cell_type": "markdown",
   "id": "ef434cb7",
   "metadata": {},
   "source": [
    "### We need to check the dimentinality of the data. Correlation Matrix is the best way to obtain it."
   ]
  },
  {
   "cell_type": "code",
   "execution_count": 11,
   "id": "a00ea076",
   "metadata": {},
   "outputs": [],
   "source": [
    "#Multivariate Analysis\n",
    "corr = df_num.corr(method='pearson')"
   ]
  },
  {
   "cell_type": "code",
   "execution_count": 12,
   "id": "9b74134e",
   "metadata": {
    "scrolled": true
   },
   "outputs": [
    {
     "data": {
      "image/png": "[encoded data removed]",
      "text/plain": [
       "<Figure size 2500x1500 with 2 Axes>"
      ]
     },
     "metadata": {},
     "output_type": "display_data"
    }
   ],
   "source": [
    "mask = np.triu(np.ones_like(corr, dtype=np.bool)) \n",
    "fig = plt.subplots(figsize=(25, 15))\n",
    "sns.heatmap(df_num.corr(), annot=True,fmt='.2f',mask=mask)\n",
    "plt.show()"
   ]
  },
  {
   "cell_type": "markdown",
   "id": "7de38aab",
   "metadata": {},
   "source": [
    "### In above matrix, We can see couple of variables are in good corelation with each other. Hence we can conclude that our data is high dimentional. We need to perform PCA to reduce the dimentionality of data."
   ]
  },
  {
   "cell_type": "markdown",
   "id": "5c30ca7f",
   "metadata": {},
   "source": [
    "## Data standardization"
   ]
  },
  {
   "cell_type": "markdown",
   "id": "83eb3528",
   "metadata": {},
   "source": [
    "### Over here, we need to drop the columns ‘ID’ and ‘Satisfaction’, because ID is a continuous variable and Satisfaction is a dependent variable. PCA doesn’t require continuous or dependent variables."
   ]
  },
  {
   "cell_type": "code",
   "execution_count": 14,
   "id": "a5938e5f",
   "metadata": {},
   "outputs": [],
   "source": [
    "#Drop all columns other than the ones suitable for PCA\n",
    "df_pca = df.drop(['ID','Satisfaction'], axis = 1)"
   ]
  },
  {
   "cell_type": "code",
   "execution_count": 15,
   "id": "4ebb29cf",
   "metadata": {},
   "outputs": [
    {
     "data": {
      "text/html": [
       "<div>\n",
       "<style scoped>\n",
       "    .dataframe tbody tr th:only-of-type {\n",
       "        vertical-align: middle;\n",
       "    }\n",
       "\n",
       "    .dataframe tbody tr th {\n",
       "        vertical-align: top;\n",
       "    }\n",
       "\n",
       "    .dataframe thead th {\n",
       "        text-align: right;\n",
       "    }\n",
       "</style>\n",
       "<table border=\"1\" class=\"dataframe\">\n",
       "  <thead>\n",
       "    <tr style=\"text-align: right;\">\n",
       "      <th></th>\n",
       "      <th>ProdQual</th>\n",
       "      <th>Ecom</th>\n",
       "      <th>TechSup</th>\n",
       "      <th>CompRes</th>\n",
       "      <th>Advertising</th>\n",
       "      <th>ProdLine</th>\n",
       "      <th>SalesFImage</th>\n",
       "      <th>ComPricing</th>\n",
       "      <th>WartyClaim</th>\n",
       "      <th>OrdBilling</th>\n",
       "      <th>DelSpeed</th>\n",
       "    </tr>\n",
       "  </thead>\n",
       "  <tbody>\n",
       "    <tr>\n",
       "      <th>0</th>\n",
       "      <td>8.5</td>\n",
       "      <td>3.9</td>\n",
       "      <td>2.5</td>\n",
       "      <td>5.9</td>\n",
       "      <td>4.8</td>\n",
       "      <td>4.9</td>\n",
       "      <td>6.0</td>\n",
       "      <td>6.8</td>\n",
       "      <td>4.7</td>\n",
       "      <td>5.0</td>\n",
       "      <td>3.7</td>\n",
       "    </tr>\n",
       "    <tr>\n",
       "      <th>1</th>\n",
       "      <td>8.2</td>\n",
       "      <td>2.7</td>\n",
       "      <td>5.1</td>\n",
       "      <td>7.2</td>\n",
       "      <td>3.4</td>\n",
       "      <td>7.9</td>\n",
       "      <td>3.1</td>\n",
       "      <td>5.3</td>\n",
       "      <td>5.5</td>\n",
       "      <td>3.9</td>\n",
       "      <td>4.9</td>\n",
       "    </tr>\n",
       "    <tr>\n",
       "      <th>2</th>\n",
       "      <td>9.2</td>\n",
       "      <td>3.4</td>\n",
       "      <td>5.6</td>\n",
       "      <td>5.6</td>\n",
       "      <td>5.4</td>\n",
       "      <td>7.4</td>\n",
       "      <td>5.8</td>\n",
       "      <td>4.5</td>\n",
       "      <td>6.2</td>\n",
       "      <td>5.4</td>\n",
       "      <td>4.5</td>\n",
       "    </tr>\n",
       "    <tr>\n",
       "      <th>3</th>\n",
       "      <td>6.4</td>\n",
       "      <td>3.3</td>\n",
       "      <td>7.0</td>\n",
       "      <td>3.7</td>\n",
       "      <td>4.7</td>\n",
       "      <td>4.7</td>\n",
       "      <td>4.5</td>\n",
       "      <td>8.8</td>\n",
       "      <td>7.0</td>\n",
       "      <td>4.3</td>\n",
       "      <td>3.0</td>\n",
       "    </tr>\n",
       "    <tr>\n",
       "      <th>4</th>\n",
       "      <td>9.0</td>\n",
       "      <td>3.4</td>\n",
       "      <td>5.2</td>\n",
       "      <td>4.6</td>\n",
       "      <td>2.2</td>\n",
       "      <td>6.0</td>\n",
       "      <td>4.5</td>\n",
       "      <td>6.8</td>\n",
       "      <td>6.1</td>\n",
       "      <td>4.5</td>\n",
       "      <td>3.5</td>\n",
       "    </tr>\n",
       "  </tbody>\n",
       "</table>\n",
       "</div>"
      ],
      "text/plain": [
       "   ProdQual  Ecom  TechSup  CompRes  Advertising  ProdLine  SalesFImage  \\\n",
       "0       8.5   3.9      2.5      5.9          4.8       4.9          6.0   \n",
       "1       8.2   2.7      5.1      7.2          3.4       7.9          3.1   \n",
       "2       9.2   3.4      5.6      5.6          5.4       7.4          5.8   \n",
       "3       6.4   3.3      7.0      3.7          4.7       4.7          4.5   \n",
       "4       9.0   3.4      5.2      4.6          2.2       6.0          4.5   \n",
       "\n",
       "   ComPricing  WartyClaim  OrdBilling  DelSpeed  \n",
       "0         6.8         4.7         5.0       3.7  \n",
       "1         5.3         5.5         3.9       4.9  \n",
       "2         4.5         6.2         5.4       4.5  \n",
       "3         8.8         7.0         4.3       3.0  \n",
       "4         6.8         6.1         4.5       3.5  "
      ]
     },
     "execution_count": 15,
     "metadata": {},
     "output_type": "execute_result"
    }
   ],
   "source": [
    "df_pca.head()"
   ]
  },
  {
   "cell_type": "code",
   "execution_count": 16,
   "id": "6bcee998",
   "metadata": {},
   "outputs": [
    {
     "data": {
      "text/plain": [
       "11"
      ]
     },
     "execution_count": 16,
     "metadata": {},
     "output_type": "execute_result"
    }
   ],
   "source": [
    "#Check the number of features\n",
    "len(df_pca.columns)"
   ]
  },
  {
   "cell_type": "markdown",
   "id": "4016a20c",
   "metadata": {},
   "source": [
    "### First we need to check for outliers and treat them accordigly. Extreme values affect the variance of fields consequently affecting PCA."
   ]
  },
  {
   "cell_type": "code",
   "execution_count": 17,
   "id": "7f8f0e99",
   "metadata": {},
   "outputs": [
    {
     "data": {
      "image/png": "[encoded data removed]",
      "text/plain": [
       "<Figure size 2000x300 with 1 Axes>"
      ]
     },
     "metadata": {},
     "output_type": "display_data"
    }
   ],
   "source": [
    "df_pca.boxplot(figsize=(20,3))\n",
    "plt.xticks(rotation=90)\n",
    "plt.show()"
   ]
  },
  {
   "cell_type": "code",
   "execution_count": 21,
   "id": "e582885d",
   "metadata": {},
   "outputs": [],
   "source": [
    "#Define a function which returns the Upper and Lower limit to detect outliers for each feature\n",
    "def remove_outlier(col):\n",
    "    Q1,Q3=col.quantile([0.25,0.75])\n",
    "    IQR=Q3-Q1\n",
    "    lower_range= Q1-(1.5 * IQR)\n",
    "    upper_range= Q3+(1.5 * IQR)\n",
    "    return lower_range, upper_range   "
   ]
  },
  {
   "cell_type": "code",
   "execution_count": 29,
   "id": "2b8c3b98",
   "metadata": {},
   "outputs": [],
   "source": [
    "feature_list = ['Ecom', 'SalesFImage', 'OrdBilling']"
   ]
  },
  {
   "cell_type": "code",
   "execution_count": 30,
   "id": "b7b879c5",
   "metadata": {},
   "outputs": [],
   "source": [
    "#Cap & floor the values beyond the outlier boundaries\n",
    "for i in feature_list:\n",
    "    LL, UL = remove_outlier(df_pca[i])\n",
    "    df_pca[i] = np.where(df_pca[i] > UL, UL, df_pca[i])\n",
    "    df_pca[i] = np.where(df_pca[i] < LL, LL, df_pca[i])"
   ]
  },
  {
   "cell_type": "code",
   "execution_count": 31,
   "id": "f8b24284",
   "metadata": {},
   "outputs": [
    {
     "data": {
      "image/png": "[encoded data removed]",
      "text/plain": [
       "<Figure size 2000x300 with 1 Axes>"
      ]
     },
     "metadata": {},
     "output_type": "display_data"
    }
   ],
   "source": [
    "df_pca.boxplot(figsize=(20,3))\n",
    "plt.xticks(rotation=90)\n",
    "plt.show()"
   ]
  },
  {
   "cell_type": "markdown",
   "id": "708c1c85",
   "metadata": {},
   "source": [
    "### Data Scaling: Scaling data in PCA achieves key goals: ensuring fair variable contribution, preventing scale-related bias, improving interpretability, maintaining numerical stability, treating variables consistently, aiding convergence, and facilitating covariance matrix calculations. This enhances the robustness, accuracy, and meaningful interpretation of PCA results."
   ]
  },
  {
   "cell_type": "markdown",
   "id": "704f5305",
   "metadata": {},
   "source": [
    "### Over here, We will use z-score mothod to scale data."
   ]
  },
  {
   "cell_type": "code",
   "execution_count": 32,
   "id": "81e20629",
   "metadata": {},
   "outputs": [],
   "source": [
    "#Scale the data\n",
    "from scipy.stats import zscore\n",
    "df_pca_scaled = df_pca.apply(zscore)"
   ]
  },
  {
   "cell_type": "code",
   "execution_count": 33,
   "id": "d4656bc8",
   "metadata": {},
   "outputs": [
    {
     "data": {
      "text/html": [
       "<div>\n",
       "<style scoped>\n",
       "    .dataframe tbody tr th:only-of-type {\n",
       "        vertical-align: middle;\n",
       "    }\n",
       "\n",
       "    .dataframe tbody tr th {\n",
       "        vertical-align: top;\n",
       "    }\n",
       "\n",
       "    .dataframe thead th {\n",
       "        text-align: right;\n",
       "    }\n",
       "</style>\n",
       "<table border=\"1\" class=\"dataframe\">\n",
       "  <thead>\n",
       "    <tr style=\"text-align: right;\">\n",
       "      <th></th>\n",
       "      <th>ProdQual</th>\n",
       "      <th>Ecom</th>\n",
       "      <th>TechSup</th>\n",
       "      <th>CompRes</th>\n",
       "      <th>Advertising</th>\n",
       "      <th>ProdLine</th>\n",
       "      <th>SalesFImage</th>\n",
       "      <th>ComPricing</th>\n",
       "      <th>WartyClaim</th>\n",
       "      <th>OrdBilling</th>\n",
       "      <th>DelSpeed</th>\n",
       "    </tr>\n",
       "  </thead>\n",
       "  <tbody>\n",
       "    <tr>\n",
       "      <th>0</th>\n",
       "      <td>0.496660</td>\n",
       "      <td>0.401668</td>\n",
       "      <td>-1.881421</td>\n",
       "      <td>0.380922</td>\n",
       "      <td>0.704543</td>\n",
       "      <td>-0.691530</td>\n",
       "      <td>0.838627</td>\n",
       "      <td>-0.113185</td>\n",
       "      <td>-1.646582</td>\n",
       "      <td>0.791872</td>\n",
       "      <td>-0.254531</td>\n",
       "    </tr>\n",
       "    <tr>\n",
       "      <th>1</th>\n",
       "      <td>0.280721</td>\n",
       "      <td>-1.495974</td>\n",
       "      <td>-0.174023</td>\n",
       "      <td>1.462141</td>\n",
       "      <td>-0.544014</td>\n",
       "      <td>1.600835</td>\n",
       "      <td>-1.917200</td>\n",
       "      <td>-1.088915</td>\n",
       "      <td>-0.665744</td>\n",
       "      <td>-0.411249</td>\n",
       "      <td>1.387605</td>\n",
       "    </tr>\n",
       "    <tr>\n",
       "      <th>2</th>\n",
       "      <td>1.000518</td>\n",
       "      <td>-0.389017</td>\n",
       "      <td>0.154322</td>\n",
       "      <td>0.131410</td>\n",
       "      <td>1.239639</td>\n",
       "      <td>1.218774</td>\n",
       "      <td>0.648570</td>\n",
       "      <td>-1.609304</td>\n",
       "      <td>0.192489</td>\n",
       "      <td>1.229371</td>\n",
       "      <td>0.840226</td>\n",
       "    </tr>\n",
       "    <tr>\n",
       "      <th>3</th>\n",
       "      <td>-1.014914</td>\n",
       "      <td>-0.547153</td>\n",
       "      <td>1.073690</td>\n",
       "      <td>-1.448834</td>\n",
       "      <td>0.615361</td>\n",
       "      <td>-0.844354</td>\n",
       "      <td>-0.586801</td>\n",
       "      <td>1.187789</td>\n",
       "      <td>1.173327</td>\n",
       "      <td>0.026250</td>\n",
       "      <td>-1.212443</td>\n",
       "    </tr>\n",
       "    <tr>\n",
       "      <th>4</th>\n",
       "      <td>0.856559</td>\n",
       "      <td>-0.389017</td>\n",
       "      <td>-0.108354</td>\n",
       "      <td>-0.700298</td>\n",
       "      <td>-1.614207</td>\n",
       "      <td>0.149004</td>\n",
       "      <td>-0.586801</td>\n",
       "      <td>-0.113185</td>\n",
       "      <td>0.069885</td>\n",
       "      <td>0.244999</td>\n",
       "      <td>-0.528220</td>\n",
       "    </tr>\n",
       "  </tbody>\n",
       "</table>\n",
       "</div>"
      ],
      "text/plain": [
       "   ProdQual      Ecom   TechSup   CompRes  Advertising  ProdLine  SalesFImage  \\\n",
       "0  0.496660  0.401668 -1.881421  0.380922     0.704543 -0.691530     0.838627   \n",
       "1  0.280721 -1.495974 -0.174023  1.462141    -0.544014  1.600835    -1.917200   \n",
       "2  1.000518 -0.389017  0.154322  0.131410     1.239639  1.218774     0.648570   \n",
       "3 -1.014914 -0.547153  1.073690 -1.448834     0.615361 -0.844354    -0.586801   \n",
       "4  0.856559 -0.389017 -0.108354 -0.700298    -1.614207  0.149004    -0.586801   \n",
       "\n",
       "   ComPricing  WartyClaim  OrdBilling  DelSpeed  \n",
       "0   -0.113185   -1.646582    0.791872 -0.254531  \n",
       "1   -1.088915   -0.665744   -0.411249  1.387605  \n",
       "2   -1.609304    0.192489    1.229371  0.840226  \n",
       "3    1.187789    1.173327    0.026250 -1.212443  \n",
       "4   -0.113185    0.069885    0.244999 -0.528220  "
      ]
     },
     "execution_count": 33,
     "metadata": {},
     "output_type": "execute_result"
    }
   ],
   "source": [
    "df_pca_scaled.head()"
   ]
  },
  {
   "cell_type": "code",
   "execution_count": 34,
   "id": "9a6bac8a",
   "metadata": {
    "scrolled": false
   },
   "outputs": [
    {
     "data": {
      "image/png": "[encoded data removed]",
      "text/plain": [
       "<Figure size 2000x300 with 1 Axes>"
      ]
     },
     "metadata": {},
     "output_type": "display_data"
    }
   ],
   "source": [
    "df_pca_scaled.boxplot(figsize=(20,3))\n",
    "plt.xticks(rotation=90)\n",
    "plt.show()"
   ]
  },
  {
   "cell_type": "markdown",
   "id": "d4f1d186",
   "metadata": {},
   "source": [
    "### Hypothesis testing for corelation using Bartlett's test."
   ]
  },
  {
   "cell_type": "code",
   "execution_count": 42,
   "id": "ef17382b",
   "metadata": {},
   "outputs": [
    {
     "name": "stdout",
     "output_type": "stream",
     "text": [
      "Requirement already satisfied: factor_analyzer in /Users/swanandmarathe/anaconda3/lib/python3.10/site-packages (0.5.1)\n",
      "Requirement already satisfied: scipy in /Users/swanandmarathe/anaconda3/lib/python3.10/site-packages (from factor_analyzer) (1.10.0)\n",
      "Requirement already satisfied: scikit-learn in /Users/swanandmarathe/anaconda3/lib/python3.10/site-packages (from factor_analyzer) (1.2.1)\n",
      "Requirement already satisfied: pandas in /Users/swanandmarathe/anaconda3/lib/python3.10/site-packages (from factor_analyzer) (1.5.3)\n",
      "Requirement already satisfied: numpy in /Users/swanandmarathe/anaconda3/lib/python3.10/site-packages (from factor_analyzer) (1.23.5)\n",
      "Requirement already satisfied: python-dateutil>=2.8.1 in /Users/swanandmarathe/anaconda3/lib/python3.10/site-packages (from pandas->factor_analyzer) (2.8.2)\n",
      "Requirement already satisfied: pytz>=2020.1 in /Users/swanandmarathe/anaconda3/lib/python3.10/site-packages (from pandas->factor_analyzer) (2022.7)\n",
      "Requirement already satisfied: joblib>=1.1.1 in /Users/swanandmarathe/anaconda3/lib/python3.10/site-packages (from scikit-learn->factor_analyzer) (1.1.1)\n",
      "Requirement already satisfied: threadpoolctl>=2.0.0 in /Users/swanandmarathe/anaconda3/lib/python3.10/site-packages (from scikit-learn->factor_analyzer) (2.2.0)\n",
      "Requirement already satisfied: six>=1.5 in /Users/swanandmarathe/anaconda3/lib/python3.10/site-packages (from python-dateutil>=2.8.1->pandas->factor_analyzer) (1.16.0)\n",
      "Note: you may need to restart the kernel to use updated packages.\n"
     ]
    }
   ],
   "source": [
    "pip install factor_analyzer"
   ]
  },
  {
   "cell_type": "code",
   "execution_count": 39,
   "id": "0d01cbd3",
   "metadata": {},
   "outputs": [
    {
     "data": {
      "text/plain": [
       "5.933824191017049e-96"
      ]
     },
     "execution_count": 39,
     "metadata": {},
     "output_type": "execute_result"
    }
   ],
   "source": [
    "#Confirm the statistical significance of correlations\n",
    "#H0: Correlations are not significant, H1: There are significant correlations\n",
    "#Reject H0 if p-value < 0.05\n",
    "from factor_analyzer.factor_analyzer import calculate_bartlett_sphericity\n",
    "chi_square_value,p_value=calculate_bartlett_sphericity(df_pca_scaled)\n",
    "p_value"
   ]
  },
  {
   "cell_type": "markdown",
   "id": "b886a929",
   "metadata": {},
   "source": [
    "### Over here p-value is smaller than 0.05. Hence we reject the H0 i.e. There are significant correlations present."
   ]
  },
  {
   "cell_type": "code",
   "execution_count": 40,
   "id": "e596920a",
   "metadata": {},
   "outputs": [
    {
     "data": {
      "text/plain": [
       "0.6535145641897558"
      ]
     },
     "execution_count": 40,
     "metadata": {},
     "output_type": "execute_result"
    }
   ],
   "source": [
    "#Confirm the adequacy of sample size. \n",
    "#Note: Above 0.7 is good, below 0.5 is not acceptable\n",
    "from factor_analyzer.factor_analyzer import calculate_kmo\n",
    "kmo_all,kmo_model=calculate_kmo(df_pca_scaled)\n",
    "kmo_model"
   ]
  },
  {
   "cell_type": "markdown",
   "id": "895084e0",
   "metadata": {},
   "source": [
    "### Over here value is greater the 0.5. Heance we conclude that we have adequate sample size."
   ]
  },
  {
   "cell_type": "code",
   "execution_count": 44,
   "id": "789de7da",
   "metadata": {
    "scrolled": false
   },
   "outputs": [
    {
     "data": {
      "text/html": [
       "<div>\n",
       "<style scoped>\n",
       "    .dataframe tbody tr th:only-of-type {\n",
       "        vertical-align: middle;\n",
       "    }\n",
       "\n",
       "    .dataframe tbody tr th {\n",
       "        vertical-align: top;\n",
       "    }\n",
       "\n",
       "    .dataframe thead th {\n",
       "        text-align: right;\n",
       "    }\n",
       "</style>\n",
       "<table border=\"1\" class=\"dataframe\">\n",
       "  <thead>\n",
       "    <tr style=\"text-align: right;\">\n",
       "      <th></th>\n",
       "      <th>ProdQual</th>\n",
       "      <th>Ecom</th>\n",
       "      <th>TechSup</th>\n",
       "      <th>CompRes</th>\n",
       "      <th>Advertising</th>\n",
       "      <th>ProdLine</th>\n",
       "      <th>SalesFImage</th>\n",
       "      <th>ComPricing</th>\n",
       "      <th>WartyClaim</th>\n",
       "      <th>OrdBilling</th>\n",
       "      <th>DelSpeed</th>\n",
       "    </tr>\n",
       "  </thead>\n",
       "  <tbody>\n",
       "    <tr>\n",
       "      <th>ProdQual</th>\n",
       "      <td>1.000000</td>\n",
       "      <td>-0.161588</td>\n",
       "      <td>0.095600</td>\n",
       "      <td>0.106370</td>\n",
       "      <td>-0.053473</td>\n",
       "      <td>0.477493</td>\n",
       "      <td>-0.146498</td>\n",
       "      <td>-0.401282</td>\n",
       "      <td>0.088312</td>\n",
       "      <td>0.102495</td>\n",
       "      <td>0.027718</td>\n",
       "    </tr>\n",
       "    <tr>\n",
       "      <th>Ecom</th>\n",
       "      <td>-0.161588</td>\n",
       "      <td>1.000000</td>\n",
       "      <td>-0.018786</td>\n",
       "      <td>0.109386</td>\n",
       "      <td>0.425123</td>\n",
       "      <td>-0.096342</td>\n",
       "      <td>0.779244</td>\n",
       "      <td>0.268064</td>\n",
       "      <td>0.027380</td>\n",
       "      <td>0.146505</td>\n",
       "      <td>0.168889</td>\n",
       "    </tr>\n",
       "    <tr>\n",
       "      <th>TechSup</th>\n",
       "      <td>0.095600</td>\n",
       "      <td>-0.018786</td>\n",
       "      <td>1.000000</td>\n",
       "      <td>0.096657</td>\n",
       "      <td>-0.062870</td>\n",
       "      <td>0.192625</td>\n",
       "      <td>0.009836</td>\n",
       "      <td>-0.270787</td>\n",
       "      <td>0.797168</td>\n",
       "      <td>0.085443</td>\n",
       "      <td>0.025441</td>\n",
       "    </tr>\n",
       "    <tr>\n",
       "      <th>CompRes</th>\n",
       "      <td>0.106370</td>\n",
       "      <td>0.109386</td>\n",
       "      <td>0.096657</td>\n",
       "      <td>1.000000</td>\n",
       "      <td>0.196917</td>\n",
       "      <td>0.561417</td>\n",
       "      <td>0.226647</td>\n",
       "      <td>-0.127954</td>\n",
       "      <td>0.140408</td>\n",
       "      <td>0.757995</td>\n",
       "      <td>0.865092</td>\n",
       "    </tr>\n",
       "    <tr>\n",
       "      <th>Advertising</th>\n",
       "      <td>-0.053473</td>\n",
       "      <td>0.425123</td>\n",
       "      <td>-0.062870</td>\n",
       "      <td>0.196917</td>\n",
       "      <td>1.000000</td>\n",
       "      <td>-0.011551</td>\n",
       "      <td>0.542923</td>\n",
       "      <td>0.134217</td>\n",
       "      <td>0.010792</td>\n",
       "      <td>0.188005</td>\n",
       "      <td>0.275863</td>\n",
       "    </tr>\n",
       "    <tr>\n",
       "      <th>ProdLine</th>\n",
       "      <td>0.477493</td>\n",
       "      <td>-0.096342</td>\n",
       "      <td>0.192625</td>\n",
       "      <td>0.561417</td>\n",
       "      <td>-0.011551</td>\n",
       "      <td>1.000000</td>\n",
       "      <td>-0.062584</td>\n",
       "      <td>-0.494948</td>\n",
       "      <td>0.273078</td>\n",
       "      <td>0.423870</td>\n",
       "      <td>0.601850</td>\n",
       "    </tr>\n",
       "    <tr>\n",
       "      <th>SalesFImage</th>\n",
       "      <td>-0.146498</td>\n",
       "      <td>0.779244</td>\n",
       "      <td>0.009836</td>\n",
       "      <td>0.226647</td>\n",
       "      <td>0.542923</td>\n",
       "      <td>-0.062584</td>\n",
       "      <td>1.000000</td>\n",
       "      <td>0.271246</td>\n",
       "      <td>0.100953</td>\n",
       "      <td>0.194695</td>\n",
       "      <td>0.268724</td>\n",
       "    </tr>\n",
       "    <tr>\n",
       "      <th>ComPricing</th>\n",
       "      <td>-0.401282</td>\n",
       "      <td>0.268064</td>\n",
       "      <td>-0.270787</td>\n",
       "      <td>-0.127954</td>\n",
       "      <td>0.134217</td>\n",
       "      <td>-0.494948</td>\n",
       "      <td>0.271246</td>\n",
       "      <td>1.000000</td>\n",
       "      <td>-0.244986</td>\n",
       "      <td>-0.113318</td>\n",
       "      <td>-0.072872</td>\n",
       "    </tr>\n",
       "    <tr>\n",
       "      <th>WartyClaim</th>\n",
       "      <td>0.088312</td>\n",
       "      <td>0.027380</td>\n",
       "      <td>0.797168</td>\n",
       "      <td>0.140408</td>\n",
       "      <td>0.010792</td>\n",
       "      <td>0.273078</td>\n",
       "      <td>0.100953</td>\n",
       "      <td>-0.244986</td>\n",
       "      <td>1.000000</td>\n",
       "      <td>0.198106</td>\n",
       "      <td>0.109395</td>\n",
       "    </tr>\n",
       "    <tr>\n",
       "      <th>OrdBilling</th>\n",
       "      <td>0.102495</td>\n",
       "      <td>0.146505</td>\n",
       "      <td>0.085443</td>\n",
       "      <td>0.757995</td>\n",
       "      <td>0.188005</td>\n",
       "      <td>0.423870</td>\n",
       "      <td>0.194695</td>\n",
       "      <td>-0.113318</td>\n",
       "      <td>0.198106</td>\n",
       "      <td>1.000000</td>\n",
       "      <td>0.753027</td>\n",
       "    </tr>\n",
       "    <tr>\n",
       "      <th>DelSpeed</th>\n",
       "      <td>0.027718</td>\n",
       "      <td>0.168889</td>\n",
       "      <td>0.025441</td>\n",
       "      <td>0.865092</td>\n",
       "      <td>0.275863</td>\n",
       "      <td>0.601850</td>\n",
       "      <td>0.268724</td>\n",
       "      <td>-0.072872</td>\n",
       "      <td>0.109395</td>\n",
       "      <td>0.753027</td>\n",
       "      <td>1.000000</td>\n",
       "    </tr>\n",
       "  </tbody>\n",
       "</table>\n",
       "</div>"
      ],
      "text/plain": [
       "             ProdQual      Ecom   TechSup   CompRes  Advertising  ProdLine  \\\n",
       "ProdQual     1.000000 -0.161588  0.095600  0.106370    -0.053473  0.477493   \n",
       "Ecom        -0.161588  1.000000 -0.018786  0.109386     0.425123 -0.096342   \n",
       "TechSup      0.095600 -0.018786  1.000000  0.096657    -0.062870  0.192625   \n",
       "CompRes      0.106370  0.109386  0.096657  1.000000     0.196917  0.561417   \n",
       "Advertising -0.053473  0.425123 -0.062870  0.196917     1.000000 -0.011551   \n",
       "ProdLine     0.477493 -0.096342  0.192625  0.561417    -0.011551  1.000000   \n",
       "SalesFImage -0.146498  0.779244  0.009836  0.226647     0.542923 -0.062584   \n",
       "ComPricing  -0.401282  0.268064 -0.270787 -0.127954     0.134217 -0.494948   \n",
       "WartyClaim   0.088312  0.027380  0.797168  0.140408     0.010792  0.273078   \n",
       "OrdBilling   0.102495  0.146505  0.085443  0.757995     0.188005  0.423870   \n",
       "DelSpeed     0.027718  0.168889  0.025441  0.865092     0.275863  0.601850   \n",
       "\n",
       "             SalesFImage  ComPricing  WartyClaim  OrdBilling  DelSpeed  \n",
       "ProdQual       -0.146498   -0.401282    0.088312    0.102495  0.027718  \n",
       "Ecom            0.779244    0.268064    0.027380    0.146505  0.168889  \n",
       "TechSup         0.009836   -0.270787    0.797168    0.085443  0.025441  \n",
       "CompRes         0.226647   -0.127954    0.140408    0.757995  0.865092  \n",
       "Advertising     0.542923    0.134217    0.010792    0.188005  0.275863  \n",
       "ProdLine       -0.062584   -0.494948    0.273078    0.423870  0.601850  \n",
       "SalesFImage     1.000000    0.271246    0.100953    0.194695  0.268724  \n",
       "ComPricing      0.271246    1.000000   -0.244986   -0.113318 -0.072872  \n",
       "WartyClaim      0.100953   -0.244986    1.000000    0.198106  0.109395  \n",
       "OrdBilling      0.194695   -0.113318    0.198106    1.000000  0.753027  \n",
       "DelSpeed        0.268724   -0.072872    0.109395    0.753027  1.000000  "
      ]
     },
     "execution_count": 44,
     "metadata": {},
     "output_type": "execute_result"
    }
   ],
   "source": [
    "#Correlation matrix post scaling\n",
    "corrM = df_pca_scaled.corr()\n",
    " \n",
    "corrM"
   ]
  },
  {
   "cell_type": "markdown",
   "id": "4f8c8642",
   "metadata": {},
   "source": [
    "### Compute Covariance Matrix"
   ]
  },
  {
   "cell_type": "code",
   "execution_count": 45,
   "id": "e9e1215f",
   "metadata": {},
   "outputs": [
    {
     "data": {
      "text/html": [
       "<div>\n",
       "<style scoped>\n",
       "    .dataframe tbody tr th:only-of-type {\n",
       "        vertical-align: middle;\n",
       "    }\n",
       "\n",
       "    .dataframe tbody tr th {\n",
       "        vertical-align: top;\n",
       "    }\n",
       "\n",
       "    .dataframe thead th {\n",
       "        text-align: right;\n",
       "    }\n",
       "</style>\n",
       "<table border=\"1\" class=\"dataframe\">\n",
       "  <thead>\n",
       "    <tr style=\"text-align: right;\">\n",
       "      <th></th>\n",
       "      <th>ProdQual</th>\n",
       "      <th>Ecom</th>\n",
       "      <th>TechSup</th>\n",
       "      <th>CompRes</th>\n",
       "      <th>Advertising</th>\n",
       "      <th>ProdLine</th>\n",
       "      <th>SalesFImage</th>\n",
       "      <th>ComPricing</th>\n",
       "      <th>WartyClaim</th>\n",
       "      <th>OrdBilling</th>\n",
       "      <th>DelSpeed</th>\n",
       "    </tr>\n",
       "  </thead>\n",
       "  <tbody>\n",
       "    <tr>\n",
       "      <th>ProdQual</th>\n",
       "      <td>1.010101</td>\n",
       "      <td>-0.163220</td>\n",
       "      <td>0.096566</td>\n",
       "      <td>0.107444</td>\n",
       "      <td>-0.054013</td>\n",
       "      <td>0.482317</td>\n",
       "      <td>-0.147978</td>\n",
       "      <td>-0.405335</td>\n",
       "      <td>0.089204</td>\n",
       "      <td>0.103531</td>\n",
       "      <td>0.027998</td>\n",
       "    </tr>\n",
       "    <tr>\n",
       "      <th>Ecom</th>\n",
       "      <td>-0.163220</td>\n",
       "      <td>1.010101</td>\n",
       "      <td>-0.018976</td>\n",
       "      <td>0.110490</td>\n",
       "      <td>0.429417</td>\n",
       "      <td>-0.097316</td>\n",
       "      <td>0.787115</td>\n",
       "      <td>0.270772</td>\n",
       "      <td>0.027657</td>\n",
       "      <td>0.147985</td>\n",
       "      <td>0.170595</td>\n",
       "    </tr>\n",
       "    <tr>\n",
       "      <th>TechSup</th>\n",
       "      <td>0.096566</td>\n",
       "      <td>-0.018976</td>\n",
       "      <td>1.010101</td>\n",
       "      <td>0.097633</td>\n",
       "      <td>-0.063505</td>\n",
       "      <td>0.194571</td>\n",
       "      <td>0.009936</td>\n",
       "      <td>-0.273522</td>\n",
       "      <td>0.805220</td>\n",
       "      <td>0.086307</td>\n",
       "      <td>0.025698</td>\n",
       "    </tr>\n",
       "    <tr>\n",
       "      <th>CompRes</th>\n",
       "      <td>0.107444</td>\n",
       "      <td>0.110490</td>\n",
       "      <td>0.097633</td>\n",
       "      <td>1.010101</td>\n",
       "      <td>0.198906</td>\n",
       "      <td>0.567088</td>\n",
       "      <td>0.228937</td>\n",
       "      <td>-0.129247</td>\n",
       "      <td>0.141827</td>\n",
       "      <td>0.765652</td>\n",
       "      <td>0.873830</td>\n",
       "    </tr>\n",
       "    <tr>\n",
       "      <th>Advertising</th>\n",
       "      <td>-0.054013</td>\n",
       "      <td>0.429417</td>\n",
       "      <td>-0.063505</td>\n",
       "      <td>0.198906</td>\n",
       "      <td>1.010101</td>\n",
       "      <td>-0.011667</td>\n",
       "      <td>0.548407</td>\n",
       "      <td>0.135573</td>\n",
       "      <td>0.010901</td>\n",
       "      <td>0.189904</td>\n",
       "      <td>0.278650</td>\n",
       "    </tr>\n",
       "    <tr>\n",
       "      <th>ProdLine</th>\n",
       "      <td>0.482317</td>\n",
       "      <td>-0.097316</td>\n",
       "      <td>0.194571</td>\n",
       "      <td>0.567088</td>\n",
       "      <td>-0.011667</td>\n",
       "      <td>1.010101</td>\n",
       "      <td>-0.063216</td>\n",
       "      <td>-0.499948</td>\n",
       "      <td>0.275836</td>\n",
       "      <td>0.428152</td>\n",
       "      <td>0.607930</td>\n",
       "    </tr>\n",
       "    <tr>\n",
       "      <th>SalesFImage</th>\n",
       "      <td>-0.147978</td>\n",
       "      <td>0.787115</td>\n",
       "      <td>0.009936</td>\n",
       "      <td>0.228937</td>\n",
       "      <td>0.548407</td>\n",
       "      <td>-0.063216</td>\n",
       "      <td>1.010101</td>\n",
       "      <td>0.273986</td>\n",
       "      <td>0.101972</td>\n",
       "      <td>0.196662</td>\n",
       "      <td>0.271438</td>\n",
       "    </tr>\n",
       "    <tr>\n",
       "      <th>ComPricing</th>\n",
       "      <td>-0.405335</td>\n",
       "      <td>0.270772</td>\n",
       "      <td>-0.273522</td>\n",
       "      <td>-0.129247</td>\n",
       "      <td>0.135573</td>\n",
       "      <td>-0.499948</td>\n",
       "      <td>0.273986</td>\n",
       "      <td>1.010101</td>\n",
       "      <td>-0.247461</td>\n",
       "      <td>-0.114463</td>\n",
       "      <td>-0.073608</td>\n",
       "    </tr>\n",
       "    <tr>\n",
       "      <th>WartyClaim</th>\n",
       "      <td>0.089204</td>\n",
       "      <td>0.027657</td>\n",
       "      <td>0.805220</td>\n",
       "      <td>0.141827</td>\n",
       "      <td>0.010901</td>\n",
       "      <td>0.275836</td>\n",
       "      <td>0.101972</td>\n",
       "      <td>-0.247461</td>\n",
       "      <td>1.010101</td>\n",
       "      <td>0.200107</td>\n",
       "      <td>0.110500</td>\n",
       "    </tr>\n",
       "    <tr>\n",
       "      <th>OrdBilling</th>\n",
       "      <td>0.103531</td>\n",
       "      <td>0.147985</td>\n",
       "      <td>0.086307</td>\n",
       "      <td>0.765652</td>\n",
       "      <td>0.189904</td>\n",
       "      <td>0.428152</td>\n",
       "      <td>0.196662</td>\n",
       "      <td>-0.114463</td>\n",
       "      <td>0.200107</td>\n",
       "      <td>1.010101</td>\n",
       "      <td>0.760634</td>\n",
       "    </tr>\n",
       "    <tr>\n",
       "      <th>DelSpeed</th>\n",
       "      <td>0.027998</td>\n",
       "      <td>0.170595</td>\n",
       "      <td>0.025698</td>\n",
       "      <td>0.873830</td>\n",
       "      <td>0.278650</td>\n",
       "      <td>0.607930</td>\n",
       "      <td>0.271438</td>\n",
       "      <td>-0.073608</td>\n",
       "      <td>0.110500</td>\n",
       "      <td>0.760634</td>\n",
       "      <td>1.010101</td>\n",
       "    </tr>\n",
       "  </tbody>\n",
       "</table>\n",
       "</div>"
      ],
      "text/plain": [
       "             ProdQual      Ecom   TechSup   CompRes  Advertising  ProdLine  \\\n",
       "ProdQual     1.010101 -0.163220  0.096566  0.107444    -0.054013  0.482317   \n",
       "Ecom        -0.163220  1.010101 -0.018976  0.110490     0.429417 -0.097316   \n",
       "TechSup      0.096566 -0.018976  1.010101  0.097633    -0.063505  0.194571   \n",
       "CompRes      0.107444  0.110490  0.097633  1.010101     0.198906  0.567088   \n",
       "Advertising -0.054013  0.429417 -0.063505  0.198906     1.010101 -0.011667   \n",
       "ProdLine     0.482317 -0.097316  0.194571  0.567088    -0.011667  1.010101   \n",
       "SalesFImage -0.147978  0.787115  0.009936  0.228937     0.548407 -0.063216   \n",
       "ComPricing  -0.405335  0.270772 -0.273522 -0.129247     0.135573 -0.499948   \n",
       "WartyClaim   0.089204  0.027657  0.805220  0.141827     0.010901  0.275836   \n",
       "OrdBilling   0.103531  0.147985  0.086307  0.765652     0.189904  0.428152   \n",
       "DelSpeed     0.027998  0.170595  0.025698  0.873830     0.278650  0.607930   \n",
       "\n",
       "             SalesFImage  ComPricing  WartyClaim  OrdBilling  DelSpeed  \n",
       "ProdQual       -0.147978   -0.405335    0.089204    0.103531  0.027998  \n",
       "Ecom            0.787115    0.270772    0.027657    0.147985  0.170595  \n",
       "TechSup         0.009936   -0.273522    0.805220    0.086307  0.025698  \n",
       "CompRes         0.228937   -0.129247    0.141827    0.765652  0.873830  \n",
       "Advertising     0.548407    0.135573    0.010901    0.189904  0.278650  \n",
       "ProdLine       -0.063216   -0.499948    0.275836    0.428152  0.607930  \n",
       "SalesFImage     1.010101    0.273986    0.101972    0.196662  0.271438  \n",
       "ComPricing      0.273986    1.010101   -0.247461   -0.114463 -0.073608  \n",
       "WartyClaim      0.101972   -0.247461    1.010101    0.200107  0.110500  \n",
       "OrdBilling      0.196662   -0.114463    0.200107    1.010101  0.760634  \n",
       "DelSpeed        0.271438   -0.073608    0.110500    0.760634  1.010101  "
      ]
     },
     "execution_count": 45,
     "metadata": {},
     "output_type": "execute_result"
    }
   ],
   "source": [
    "#Co variance matrix post scaling\n",
    "df_pca_scaled.cov()"
   ]
  },
  {
   "cell_type": "markdown",
   "id": "b721955d",
   "metadata": {},
   "source": [
    "### Now we will proceed with applying PCA to the dataset."
   ]
  },
  {
   "cell_type": "code",
   "execution_count": 46,
   "id": "f5c7a8fc",
   "metadata": {},
   "outputs": [],
   "source": [
    "#Apply PCA taking all features\n",
    "from sklearn.decomposition import PCA\n",
    "pca = PCA(n_components=11, random_state=123)\n",
    "pca_transformed = pca.fit_transform(df_pca_scaled)"
   ]
  },
  {
   "cell_type": "markdown",
   "id": "62dd3faf",
   "metadata": {},
   "source": [
    "### Next, We need to check and sort Eigen Vectors and Eigen Values."
   ]
  },
  {
   "cell_type": "code",
   "execution_count": 47,
   "id": "55308117",
   "metadata": {
    "scrolled": true
   },
   "outputs": [
    {
     "data": {
      "text/plain": [
       "array([[-0.13958484, -0.13254139, -0.16086145, -0.47327735, -0.17663118,\n",
       "        -0.39334743, -0.18912674,  0.15852645, -0.21491158, -0.44095193,\n",
       "        -0.4750106 ],\n",
       "       [-0.30585635,  0.4614841 , -0.22604479,  0.0328043 ,  0.36431125,\n",
       "        -0.27223013,  0.47202112,  0.40940608, -0.18588346,  0.0436659 ,\n",
       "         0.08719729],\n",
       "       [ 0.0673037 , -0.22905446, -0.6160254 ,  0.20400594, -0.09067371,\n",
       "         0.11717887, -0.23847429,  0.04630508, -0.60480947,  0.15602618,\n",
       "         0.22537332],\n",
       "       [ 0.65021058,  0.25606484, -0.18131803, -0.20637509,  0.33161021,\n",
       "         0.2021036 ,  0.23494751, -0.32910626, -0.17107065, -0.23258698,\n",
       "        -0.19622886],\n",
       "       [ 0.29061148,  0.40491279, -0.00969125,  0.02744322, -0.78139983,\n",
       "         0.11111323,  0.19272181,  0.29469893, -0.01843148,  0.04615378,\n",
       "        -0.0367786 ],\n",
       "       [ 0.52948142, -0.30460958,  0.1080686 ,  0.03206965,  0.2591613 ,\n",
       "        -0.10879264, -0.12876556,  0.69790323,  0.13815614,  0.10867892,\n",
       "        -0.02463771],\n",
       "       [ 0.19631888,  0.07310744, -0.00564486, -0.00736523, -0.04743567,\n",
       "        -0.60938238, -0.03295609, -0.30245938, -0.03893729,  0.6600542 ,\n",
       "        -0.2295117 ],\n",
       "       [ 0.1304781 , -0.1883323 ,  0.42161716,  0.51753864, -0.07645363,\n",
       "        -0.33845774,  0.25554966, -0.10756292, -0.40735982, -0.36857037,\n",
       "         0.05328026],\n",
       "       [ 0.00711169, -0.52253824, -0.41229242,  0.03058006, -0.15524249,\n",
       "        -0.06561178,  0.62146721, -0.07932378,  0.36299927, -0.02156127,\n",
       "        -0.05320512],\n",
       "       [ 0.07746204,  0.28145907, -0.38644629,  0.53042858,  0.03335991,\n",
       "        -0.24084883, -0.34541109, -0.05417147,  0.43761048, -0.3202135 ,\n",
       "        -0.09317286],\n",
       "       [ 0.18232441,  0.0401188 , -0.04210018, -0.37249378, -0.08266196,\n",
       "        -0.37973178, -0.06093034, -0.10298686,  0.11850876, -0.19171668,\n",
       "         0.78004911]])"
      ]
     },
     "execution_count": 47,
     "metadata": {},
     "output_type": "execute_result"
    }
   ],
   "source": [
    "#Extract eigen vectors\n",
    "pca.components_"
   ]
  },
  {
   "cell_type": "code",
   "execution_count": 48,
   "id": "aa428946",
   "metadata": {},
   "outputs": [
    {
     "data": {
      "text/plain": [
       "array([3.44103192, 2.61222864, 1.69750889, 1.08989931, 0.61732406,\n",
       "       0.54962197, 0.405415  , 0.24924044, 0.21547516, 0.13372331,\n",
       "       0.09964241])"
      ]
     },
     "execution_count": 48,
     "metadata": {},
     "output_type": "execute_result"
    }
   ],
   "source": [
    "#Check the eigen values\n",
    "#Note: This is always returned in descending order\n",
    "pca.explained_variance_"
   ]
  },
  {
   "cell_type": "code",
   "execution_count": 49,
   "id": "8a81a553",
   "metadata": {},
   "outputs": [
    {
     "data": {
      "text/plain": [
       "array([0.30969287, 0.23510058, 0.1527758 , 0.09809094, 0.05555917,\n",
       "       0.04946598, 0.03648735, 0.02243164, 0.01939276, 0.0120351 ,\n",
       "       0.00896782])"
      ]
     },
     "execution_count": 49,
     "metadata": {},
     "output_type": "execute_result"
    }
   ],
   "source": [
    "#Check the explained variance for each PC\n",
    "#Note: Explained variance = (eigen value of each PC)/(sum of eigen values of all PCs)\n",
    "pca.explained_variance_ratio_"
   ]
  },
  {
   "cell_type": "markdown",
   "id": "aeae8441",
   "metadata": {},
   "source": [
    "### Obtain all PCA in Dataframe"
   ]
  },
  {
   "cell_type": "code",
   "execution_count": 50,
   "id": "b12935af",
   "metadata": {
    "scrolled": true
   },
   "outputs": [
    {
     "data": {
      "text/html": [
       "<div>\n",
       "<style scoped>\n",
       "    .dataframe tbody tr th:only-of-type {\n",
       "        vertical-align: middle;\n",
       "    }\n",
       "\n",
       "    .dataframe tbody tr th {\n",
       "        vertical-align: top;\n",
       "    }\n",
       "\n",
       "    .dataframe thead th {\n",
       "        text-align: right;\n",
       "    }\n",
       "</style>\n",
       "<table border=\"1\" class=\"dataframe\">\n",
       "  <thead>\n",
       "    <tr style=\"text-align: right;\">\n",
       "      <th></th>\n",
       "      <th>PC1</th>\n",
       "      <th>PC2</th>\n",
       "      <th>PC3</th>\n",
       "      <th>PC4</th>\n",
       "      <th>PC5</th>\n",
       "      <th>PC6</th>\n",
       "      <th>PC7</th>\n",
       "      <th>PC8</th>\n",
       "      <th>PC9</th>\n",
       "      <th>PC10</th>\n",
       "      <th>PC11</th>\n",
       "    </tr>\n",
       "  </thead>\n",
       "  <tbody>\n",
       "    <tr>\n",
       "      <th>ProdQual</th>\n",
       "      <td>-0.139585</td>\n",
       "      <td>-0.305856</td>\n",
       "      <td>0.067304</td>\n",
       "      <td>0.650211</td>\n",
       "      <td>0.290611</td>\n",
       "      <td>0.529481</td>\n",
       "      <td>0.196319</td>\n",
       "      <td>0.130478</td>\n",
       "      <td>0.007112</td>\n",
       "      <td>0.077462</td>\n",
       "      <td>0.182324</td>\n",
       "    </tr>\n",
       "    <tr>\n",
       "      <th>Ecom</th>\n",
       "      <td>-0.132541</td>\n",
       "      <td>0.461484</td>\n",
       "      <td>-0.229054</td>\n",
       "      <td>0.256065</td>\n",
       "      <td>0.404913</td>\n",
       "      <td>-0.304610</td>\n",
       "      <td>0.073107</td>\n",
       "      <td>-0.188332</td>\n",
       "      <td>-0.522538</td>\n",
       "      <td>0.281459</td>\n",
       "      <td>0.040119</td>\n",
       "    </tr>\n",
       "    <tr>\n",
       "      <th>TechSup</th>\n",
       "      <td>-0.160861</td>\n",
       "      <td>-0.226045</td>\n",
       "      <td>-0.616025</td>\n",
       "      <td>-0.181318</td>\n",
       "      <td>-0.009691</td>\n",
       "      <td>0.108069</td>\n",
       "      <td>-0.005645</td>\n",
       "      <td>0.421617</td>\n",
       "      <td>-0.412292</td>\n",
       "      <td>-0.386446</td>\n",
       "      <td>-0.042100</td>\n",
       "    </tr>\n",
       "    <tr>\n",
       "      <th>CompRes</th>\n",
       "      <td>-0.473277</td>\n",
       "      <td>0.032804</td>\n",
       "      <td>0.204006</td>\n",
       "      <td>-0.206375</td>\n",
       "      <td>0.027443</td>\n",
       "      <td>0.032070</td>\n",
       "      <td>-0.007365</td>\n",
       "      <td>0.517539</td>\n",
       "      <td>0.030580</td>\n",
       "      <td>0.530429</td>\n",
       "      <td>-0.372494</td>\n",
       "    </tr>\n",
       "    <tr>\n",
       "      <th>Advertising</th>\n",
       "      <td>-0.176631</td>\n",
       "      <td>0.364311</td>\n",
       "      <td>-0.090674</td>\n",
       "      <td>0.331610</td>\n",
       "      <td>-0.781400</td>\n",
       "      <td>0.259161</td>\n",
       "      <td>-0.047436</td>\n",
       "      <td>-0.076454</td>\n",
       "      <td>-0.155242</td>\n",
       "      <td>0.033360</td>\n",
       "      <td>-0.082662</td>\n",
       "    </tr>\n",
       "    <tr>\n",
       "      <th>ProdLine</th>\n",
       "      <td>-0.393347</td>\n",
       "      <td>-0.272230</td>\n",
       "      <td>0.117179</td>\n",
       "      <td>0.202104</td>\n",
       "      <td>0.111113</td>\n",
       "      <td>-0.108793</td>\n",
       "      <td>-0.609382</td>\n",
       "      <td>-0.338458</td>\n",
       "      <td>-0.065612</td>\n",
       "      <td>-0.240849</td>\n",
       "      <td>-0.379732</td>\n",
       "    </tr>\n",
       "    <tr>\n",
       "      <th>SalesFImage</th>\n",
       "      <td>-0.189127</td>\n",
       "      <td>0.472021</td>\n",
       "      <td>-0.238474</td>\n",
       "      <td>0.234948</td>\n",
       "      <td>0.192722</td>\n",
       "      <td>-0.128766</td>\n",
       "      <td>-0.032956</td>\n",
       "      <td>0.255550</td>\n",
       "      <td>0.621467</td>\n",
       "      <td>-0.345411</td>\n",
       "      <td>-0.060930</td>\n",
       "    </tr>\n",
       "    <tr>\n",
       "      <th>ComPricing</th>\n",
       "      <td>0.158526</td>\n",
       "      <td>0.409406</td>\n",
       "      <td>0.046305</td>\n",
       "      <td>-0.329106</td>\n",
       "      <td>0.294699</td>\n",
       "      <td>0.697903</td>\n",
       "      <td>-0.302459</td>\n",
       "      <td>-0.107563</td>\n",
       "      <td>-0.079324</td>\n",
       "      <td>-0.054171</td>\n",
       "      <td>-0.102987</td>\n",
       "    </tr>\n",
       "    <tr>\n",
       "      <th>WartyClaim</th>\n",
       "      <td>-0.214912</td>\n",
       "      <td>-0.185883</td>\n",
       "      <td>-0.604809</td>\n",
       "      <td>-0.171071</td>\n",
       "      <td>-0.018431</td>\n",
       "      <td>0.138156</td>\n",
       "      <td>-0.038937</td>\n",
       "      <td>-0.407360</td>\n",
       "      <td>0.362999</td>\n",
       "      <td>0.437610</td>\n",
       "      <td>0.118509</td>\n",
       "    </tr>\n",
       "    <tr>\n",
       "      <th>OrdBilling</th>\n",
       "      <td>-0.440952</td>\n",
       "      <td>0.043666</td>\n",
       "      <td>0.156026</td>\n",
       "      <td>-0.232587</td>\n",
       "      <td>0.046154</td>\n",
       "      <td>0.108679</td>\n",
       "      <td>0.660054</td>\n",
       "      <td>-0.368570</td>\n",
       "      <td>-0.021561</td>\n",
       "      <td>-0.320213</td>\n",
       "      <td>-0.191717</td>\n",
       "    </tr>\n",
       "    <tr>\n",
       "      <th>DelSpeed</th>\n",
       "      <td>-0.475011</td>\n",
       "      <td>0.087197</td>\n",
       "      <td>0.225373</td>\n",
       "      <td>-0.196229</td>\n",
       "      <td>-0.036779</td>\n",
       "      <td>-0.024638</td>\n",
       "      <td>-0.229512</td>\n",
       "      <td>0.053280</td>\n",
       "      <td>-0.053205</td>\n",
       "      <td>-0.093173</td>\n",
       "      <td>0.780049</td>\n",
       "    </tr>\n",
       "  </tbody>\n",
       "</table>\n",
       "</div>"
      ],
      "text/plain": [
       "                  PC1       PC2       PC3       PC4       PC5       PC6  \\\n",
       "ProdQual    -0.139585 -0.305856  0.067304  0.650211  0.290611  0.529481   \n",
       "Ecom        -0.132541  0.461484 -0.229054  0.256065  0.404913 -0.304610   \n",
       "TechSup     -0.160861 -0.226045 -0.616025 -0.181318 -0.009691  0.108069   \n",
       "CompRes     -0.473277  0.032804  0.204006 -0.206375  0.027443  0.032070   \n",
       "Advertising -0.176631  0.364311 -0.090674  0.331610 -0.781400  0.259161   \n",
       "ProdLine    -0.393347 -0.272230  0.117179  0.202104  0.111113 -0.108793   \n",
       "SalesFImage -0.189127  0.472021 -0.238474  0.234948  0.192722 -0.128766   \n",
       "ComPricing   0.158526  0.409406  0.046305 -0.329106  0.294699  0.697903   \n",
       "WartyClaim  -0.214912 -0.185883 -0.604809 -0.171071 -0.018431  0.138156   \n",
       "OrdBilling  -0.440952  0.043666  0.156026 -0.232587  0.046154  0.108679   \n",
       "DelSpeed    -0.475011  0.087197  0.225373 -0.196229 -0.036779 -0.024638   \n",
       "\n",
       "                  PC7       PC8       PC9      PC10      PC11  \n",
       "ProdQual     0.196319  0.130478  0.007112  0.077462  0.182324  \n",
       "Ecom         0.073107 -0.188332 -0.522538  0.281459  0.040119  \n",
       "TechSup     -0.005645  0.421617 -0.412292 -0.386446 -0.042100  \n",
       "CompRes     -0.007365  0.517539  0.030580  0.530429 -0.372494  \n",
       "Advertising -0.047436 -0.076454 -0.155242  0.033360 -0.082662  \n",
       "ProdLine    -0.609382 -0.338458 -0.065612 -0.240849 -0.379732  \n",
       "SalesFImage -0.032956  0.255550  0.621467 -0.345411 -0.060930  \n",
       "ComPricing  -0.302459 -0.107563 -0.079324 -0.054171 -0.102987  \n",
       "WartyClaim  -0.038937 -0.407360  0.362999  0.437610  0.118509  \n",
       "OrdBilling   0.660054 -0.368570 -0.021561 -0.320213 -0.191717  \n",
       "DelSpeed    -0.229512  0.053280 -0.053205 -0.093173  0.780049  "
      ]
     },
     "execution_count": 50,
     "metadata": {},
     "output_type": "execute_result"
    }
   ],
   "source": [
    "#Create a dataframe containing the loadings or coefficients of all PCs\n",
    "df_extracted_loadings = pd.DataFrame(pca.components_.T, \n",
    "                                     columns = ['PC1','PC2', 'PC3', 'PC4', 'PC5', 'PC6',\n",
    "                                               'PC7','PC8', 'PC9', 'PC10', 'PC11'],\n",
    "                                    index = df_pca_scaled.columns)\n",
    "df_extracted_loadings"
   ]
  },
  {
   "cell_type": "markdown",
   "id": "0bf35120",
   "metadata": {},
   "source": [
    "### Next, We need to find out 'Key Components'. 'Scree Plot' Helps us to identify number of key components that are considered important in explaining variance in data."
   ]
  },
  {
   "cell_type": "code",
   "execution_count": 51,
   "id": "f6a19c48",
   "metadata": {},
   "outputs": [
    {
     "data": {
      "image/png": "[encoded data removed]",
      "text/plain": [
       "<Figure size 800x500 with 1 Axes>"
      ]
     },
     "metadata": {},
     "output_type": "display_data"
    }
   ],
   "source": [
    "#Create a scree plot\n",
    "plt.figure(figsize=(8,5))\n",
    "sns.lineplot(y=pca.explained_variance_ratio_ ,x=range(1,12),marker='o')\n",
    "plt.xlabel('Number of Components',fontsize=10)\n",
    "plt.ylabel('Variance Explained',fontsize=10)\n",
    "plt.title('Scree Plot',fontsize=12)\n",
    "plt.grid()\n",
    "plt.show()"
   ]
  },
  {
   "cell_type": "markdown",
   "id": "e1750dd1",
   "metadata": {},
   "source": [
    "### In above figure we can evedentely see that Eigenvalues start leveling off at five components. Hence, We can say that first 5 components majorly explains the variance of data."
   ]
  },
  {
   "cell_type": "code",
   "execution_count": 52,
   "id": "0654b53e",
   "metadata": {},
   "outputs": [
    {
     "data": {
      "text/plain": [
       "array([0.30969287, 0.54479345, 0.69756925, 0.79566019, 0.85121935,\n",
       "       0.90068533, 0.93717268, 0.95960432, 0.97899708, 0.99103218,\n",
       "       1.        ])"
      ]
     },
     "execution_count": 52,
     "metadata": {},
     "output_type": "execute_result"
    }
   ],
   "source": [
    "#Check the cumlative explained variance ratio to find a cut off for selecting the number of PCs\n",
    "np.cumsum(pca.explained_variance_ratio_)"
   ]
  },
  {
   "cell_type": "code",
   "execution_count": 53,
   "id": "d66c4dbf",
   "metadata": {},
   "outputs": [],
   "source": [
    "#Choose the PCs basis cumulative explained variance\n",
    "df_selected = df_extracted_loadings[['PC1','PC2', 'PC3', 'PC4', 'PC5']]"
   ]
  },
  {
   "cell_type": "code",
   "execution_count": 54,
   "id": "6d4342a7",
   "metadata": {},
   "outputs": [
    {
     "data": {
      "text/html": [
       "<div>\n",
       "<style scoped>\n",
       "    .dataframe tbody tr th:only-of-type {\n",
       "        vertical-align: middle;\n",
       "    }\n",
       "\n",
       "    .dataframe tbody tr th {\n",
       "        vertical-align: top;\n",
       "    }\n",
       "\n",
       "    .dataframe thead th {\n",
       "        text-align: right;\n",
       "    }\n",
       "</style>\n",
       "<table border=\"1\" class=\"dataframe\">\n",
       "  <thead>\n",
       "    <tr style=\"text-align: right;\">\n",
       "      <th></th>\n",
       "      <th>PC1</th>\n",
       "      <th>PC2</th>\n",
       "      <th>PC3</th>\n",
       "      <th>PC4</th>\n",
       "      <th>PC5</th>\n",
       "    </tr>\n",
       "  </thead>\n",
       "  <tbody>\n",
       "    <tr>\n",
       "      <th>ProdQual</th>\n",
       "      <td>-0.139585</td>\n",
       "      <td>-0.305856</td>\n",
       "      <td>0.067304</td>\n",
       "      <td>0.650211</td>\n",
       "      <td>0.290611</td>\n",
       "    </tr>\n",
       "    <tr>\n",
       "      <th>Ecom</th>\n",
       "      <td>-0.132541</td>\n",
       "      <td>0.461484</td>\n",
       "      <td>-0.229054</td>\n",
       "      <td>0.256065</td>\n",
       "      <td>0.404913</td>\n",
       "    </tr>\n",
       "    <tr>\n",
       "      <th>TechSup</th>\n",
       "      <td>-0.160861</td>\n",
       "      <td>-0.226045</td>\n",
       "      <td>-0.616025</td>\n",
       "      <td>-0.181318</td>\n",
       "      <td>-0.009691</td>\n",
       "    </tr>\n",
       "    <tr>\n",
       "      <th>CompRes</th>\n",
       "      <td>-0.473277</td>\n",
       "      <td>0.032804</td>\n",
       "      <td>0.204006</td>\n",
       "      <td>-0.206375</td>\n",
       "      <td>0.027443</td>\n",
       "    </tr>\n",
       "    <tr>\n",
       "      <th>Advertising</th>\n",
       "      <td>-0.176631</td>\n",
       "      <td>0.364311</td>\n",
       "      <td>-0.090674</td>\n",
       "      <td>0.331610</td>\n",
       "      <td>-0.781400</td>\n",
       "    </tr>\n",
       "    <tr>\n",
       "      <th>ProdLine</th>\n",
       "      <td>-0.393347</td>\n",
       "      <td>-0.272230</td>\n",
       "      <td>0.117179</td>\n",
       "      <td>0.202104</td>\n",
       "      <td>0.111113</td>\n",
       "    </tr>\n",
       "    <tr>\n",
       "      <th>SalesFImage</th>\n",
       "      <td>-0.189127</td>\n",
       "      <td>0.472021</td>\n",
       "      <td>-0.238474</td>\n",
       "      <td>0.234948</td>\n",
       "      <td>0.192722</td>\n",
       "    </tr>\n",
       "    <tr>\n",
       "      <th>ComPricing</th>\n",
       "      <td>0.158526</td>\n",
       "      <td>0.409406</td>\n",
       "      <td>0.046305</td>\n",
       "      <td>-0.329106</td>\n",
       "      <td>0.294699</td>\n",
       "    </tr>\n",
       "    <tr>\n",
       "      <th>WartyClaim</th>\n",
       "      <td>-0.214912</td>\n",
       "      <td>-0.185883</td>\n",
       "      <td>-0.604809</td>\n",
       "      <td>-0.171071</td>\n",
       "      <td>-0.018431</td>\n",
       "    </tr>\n",
       "    <tr>\n",
       "      <th>OrdBilling</th>\n",
       "      <td>-0.440952</td>\n",
       "      <td>0.043666</td>\n",
       "      <td>0.156026</td>\n",
       "      <td>-0.232587</td>\n",
       "      <td>0.046154</td>\n",
       "    </tr>\n",
       "    <tr>\n",
       "      <th>DelSpeed</th>\n",
       "      <td>-0.475011</td>\n",
       "      <td>0.087197</td>\n",
       "      <td>0.225373</td>\n",
       "      <td>-0.196229</td>\n",
       "      <td>-0.036779</td>\n",
       "    </tr>\n",
       "  </tbody>\n",
       "</table>\n",
       "</div>"
      ],
      "text/plain": [
       "                  PC1       PC2       PC3       PC4       PC5\n",
       "ProdQual    -0.139585 -0.305856  0.067304  0.650211  0.290611\n",
       "Ecom        -0.132541  0.461484 -0.229054  0.256065  0.404913\n",
       "TechSup     -0.160861 -0.226045 -0.616025 -0.181318 -0.009691\n",
       "CompRes     -0.473277  0.032804  0.204006 -0.206375  0.027443\n",
       "Advertising -0.176631  0.364311 -0.090674  0.331610 -0.781400\n",
       "ProdLine    -0.393347 -0.272230  0.117179  0.202104  0.111113\n",
       "SalesFImage -0.189127  0.472021 -0.238474  0.234948  0.192722\n",
       "ComPricing   0.158526  0.409406  0.046305 -0.329106  0.294699\n",
       "WartyClaim  -0.214912 -0.185883 -0.604809 -0.171071 -0.018431\n",
       "OrdBilling  -0.440952  0.043666  0.156026 -0.232587  0.046154\n",
       "DelSpeed    -0.475011  0.087197  0.225373 -0.196229 -0.036779"
      ]
     },
     "execution_count": 54,
     "metadata": {},
     "output_type": "execute_result"
    }
   ],
   "source": [
    "#Check the selected PCs\n",
    "df_selected"
   ]
  },
  {
   "cell_type": "code",
   "execution_count": 55,
   "id": "9625ab6a",
   "metadata": {
    "scrolled": true
   },
   "outputs": [
    {
     "data": {
      "text/plain": [
       "ProdQual       0.496660\n",
       "Ecom           0.401668\n",
       "TechSup       -1.881421\n",
       "CompRes        0.380922\n",
       "Advertising    0.704543\n",
       "ProdLine      -0.691530\n",
       "SalesFImage    0.838627\n",
       "ComPricing    -0.113185\n",
       "WartyClaim    -1.646582\n",
       "OrdBilling     0.791872\n",
       "DelSpeed      -0.254531\n",
       "Name: 0, dtype: float64"
      ]
     },
     "execution_count": 55,
     "metadata": {},
     "output_type": "execute_result"
    }
   ],
   "source": [
    "df_pca_scaled.iloc[0]"
   ]
  },
  {
   "cell_type": "markdown",
   "id": "bdc928e4",
   "metadata": {},
   "source": [
    "### Now lets calculate the scores for each PCA."
   ]
  },
  {
   "cell_type": "code",
   "execution_count": 56,
   "id": "9b714ad2",
   "metadata": {},
   "outputs": [
    {
     "name": "stdout",
     "output_type": "stream",
     "text": [
      "0.09642 1.58413 1.89004 1.16391 -0.08718 "
     ]
    }
   ],
   "source": [
    "#We need to perform a dot product between the loadings and features to obtain the scores\n",
    "for i in df_selected.columns:\n",
    "    pc_score = np.dot(df_selected[i], df_pca_scaled.iloc[0])\n",
    "    print(round(pc_score, 5), end = ' ')"
   ]
  },
  {
   "cell_type": "code",
   "execution_count": 57,
   "id": "92001583",
   "metadata": {},
   "outputs": [],
   "source": [
    "#Above step involves a lot of hard work. Let's do it the easier way\n",
    "#Extract the required(as per the cumulative explained variance) number of PCs\n",
    "pca = PCA(n_components=5, random_state=123)\n",
    "pca_final = pca.fit_transform(df_pca_scaled)"
   ]
  },
  {
   "cell_type": "code",
   "execution_count": 58,
   "id": "9a59bee5",
   "metadata": {
    "scrolled": true
   },
   "outputs": [
    {
     "data": {
      "text/html": [
       "<div>\n",
       "<style scoped>\n",
       "    .dataframe tbody tr th:only-of-type {\n",
       "        vertical-align: middle;\n",
       "    }\n",
       "\n",
       "    .dataframe tbody tr th {\n",
       "        vertical-align: top;\n",
       "    }\n",
       "\n",
       "    .dataframe thead th {\n",
       "        text-align: right;\n",
       "    }\n",
       "</style>\n",
       "<table border=\"1\" class=\"dataframe\">\n",
       "  <thead>\n",
       "    <tr style=\"text-align: right;\">\n",
       "      <th></th>\n",
       "      <th>PC1</th>\n",
       "      <th>PC2</th>\n",
       "      <th>PC3</th>\n",
       "      <th>PC4</th>\n",
       "      <th>PC5</th>\n",
       "    </tr>\n",
       "  </thead>\n",
       "  <tbody>\n",
       "    <tr>\n",
       "      <th>0</th>\n",
       "      <td>0.096417</td>\n",
       "      <td>1.584133</td>\n",
       "      <td>1.890045</td>\n",
       "      <td>1.163914</td>\n",
       "      <td>-0.087181</td>\n",
       "    </tr>\n",
       "    <tr>\n",
       "      <th>1</th>\n",
       "      <td>-1.183243</td>\n",
       "      <td>-2.446892</td>\n",
       "      <td>2.061945</td>\n",
       "      <td>-0.482421</td>\n",
       "      <td>-0.627512</td>\n",
       "    </tr>\n",
       "    <tr>\n",
       "      <th>2</th>\n",
       "      <td>-2.233832</td>\n",
       "      <td>-0.657839</td>\n",
       "      <td>0.154171</td>\n",
       "      <td>1.351499</td>\n",
       "      <td>-1.024854</td>\n",
       "    </tr>\n",
       "    <tr>\n",
       "      <th>3</th>\n",
       "      <td>1.562067</td>\n",
       "      <td>0.108354</td>\n",
       "      <td>-1.838567</td>\n",
       "      <td>-1.159965</td>\n",
       "      <td>-0.880195</td>\n",
       "    </tr>\n",
       "    <tr>\n",
       "      <th>4</th>\n",
       "      <td>0.728267</td>\n",
       "      <td>-1.440298</td>\n",
       "      <td>0.246074</td>\n",
       "      <td>0.050423</td>\n",
       "      <td>1.234139</td>\n",
       "    </tr>\n",
       "    <tr>\n",
       "      <th>5</th>\n",
       "      <td>2.897915</td>\n",
       "      <td>0.163704</td>\n",
       "      <td>1.567969</td>\n",
       "      <td>-0.807071</td>\n",
       "      <td>-0.903156</td>\n",
       "    </tr>\n",
       "    <tr>\n",
       "      <th>6</th>\n",
       "      <td>5.342482</td>\n",
       "      <td>0.918872</td>\n",
       "      <td>-0.594877</td>\n",
       "      <td>-0.007440</td>\n",
       "      <td>1.249229</td>\n",
       "    </tr>\n",
       "    <tr>\n",
       "      <th>7</th>\n",
       "      <td>1.485825</td>\n",
       "      <td>1.050203</td>\n",
       "      <td>0.711175</td>\n",
       "      <td>-0.584383</td>\n",
       "      <td>-1.154317</td>\n",
       "    </tr>\n",
       "    <tr>\n",
       "      <th>8</th>\n",
       "      <td>-0.604370</td>\n",
       "      <td>1.411412</td>\n",
       "      <td>0.536312</td>\n",
       "      <td>-1.759578</td>\n",
       "      <td>0.349026</td>\n",
       "    </tr>\n",
       "    <tr>\n",
       "      <th>9</th>\n",
       "      <td>-0.382922</td>\n",
       "      <td>2.077475</td>\n",
       "      <td>0.292242</td>\n",
       "      <td>-0.341250</td>\n",
       "      <td>0.138649</td>\n",
       "    </tr>\n",
       "  </tbody>\n",
       "</table>\n",
       "</div>"
      ],
      "text/plain": [
       "        PC1       PC2       PC3       PC4       PC5\n",
       "0  0.096417  1.584133  1.890045  1.163914 -0.087181\n",
       "1 -1.183243 -2.446892  2.061945 -0.482421 -0.627512\n",
       "2 -2.233832 -0.657839  0.154171  1.351499 -1.024854\n",
       "3  1.562067  0.108354 -1.838567 -1.159965 -0.880195\n",
       "4  0.728267 -1.440298  0.246074  0.050423  1.234139\n",
       "5  2.897915  0.163704  1.567969 -0.807071 -0.903156\n",
       "6  5.342482  0.918872 -0.594877 -0.007440  1.249229\n",
       "7  1.485825  1.050203  0.711175 -0.584383 -1.154317\n",
       "8 -0.604370  1.411412  0.536312 -1.759578  0.349026\n",
       "9 -0.382922  2.077475  0.292242 -0.341250  0.138649"
      ]
     },
     "execution_count": 58,
     "metadata": {},
     "output_type": "execute_result"
    }
   ],
   "source": [
    "#Just create a dataframe out of fit_transformed scaled data above\n",
    "pca_final_df = pd.DataFrame(pca_final, columns = df_selected.columns)\n",
    "pca_final_df.head(10)"
   ]
  },
  {
   "cell_type": "markdown",
   "id": "4fab8791",
   "metadata": {},
   "source": [
    "### End of PCA"
   ]
  },
  {
   "cell_type": "code",
   "execution_count": null,
   "id": "5497d32d",
   "metadata": {},
   "outputs": [],
   "source": []
  },
  {
   "cell_type": "markdown",
   "id": "1616e239",
   "metadata": {},
   "source": [
    "# Cluster Analysis / Clustering"
   ]
  },
  {
   "cell_type": "markdown",
   "id": "66ecc517",
   "metadata": {},
   "source": [
    "### Problem Statement: The 'State_wise_Health_income.csv' dataset given is about the Health and economic conditions in different States of a country. The Group States based on how similar their situation is, so as to provide these groups to the government so that appropriate measures can be taken to escalate their Health and Economic conditions."
   ]
  },
  {
   "cell_type": "markdown",
   "id": "da91459b",
   "metadata": {},
   "source": [
    "### Let's start with loading data in notebook."
   ]
  },
  {
   "cell_type": "code",
   "execution_count": 81,
   "id": "4681019c",
   "metadata": {},
   "outputs": [],
   "source": [
    "df2 = pd.read_csv(\"State_wise_Health_income.csv\")"
   ]
  },
  {
   "cell_type": "code",
   "execution_count": 82,
   "id": "c6806fc5",
   "metadata": {},
   "outputs": [
    {
     "data": {
      "text/html": [
       "<div>\n",
       "<style scoped>\n",
       "    .dataframe tbody tr th:only-of-type {\n",
       "        vertical-align: middle;\n",
       "    }\n",
       "\n",
       "    .dataframe tbody tr th {\n",
       "        vertical-align: top;\n",
       "    }\n",
       "\n",
       "    .dataframe thead th {\n",
       "        text-align: right;\n",
       "    }\n",
       "</style>\n",
       "<table border=\"1\" class=\"dataframe\">\n",
       "  <thead>\n",
       "    <tr style=\"text-align: right;\">\n",
       "      <th></th>\n",
       "      <th>Unnamed: 0</th>\n",
       "      <th>States</th>\n",
       "      <th>Health_indices1</th>\n",
       "      <th>Health_indices2</th>\n",
       "      <th>Per_capita_income</th>\n",
       "      <th>GDP</th>\n",
       "    </tr>\n",
       "  </thead>\n",
       "  <tbody>\n",
       "    <tr>\n",
       "      <th>0</th>\n",
       "      <td>0</td>\n",
       "      <td>Bachevo</td>\n",
       "      <td>417</td>\n",
       "      <td>66</td>\n",
       "      <td>564</td>\n",
       "      <td>1823</td>\n",
       "    </tr>\n",
       "    <tr>\n",
       "      <th>1</th>\n",
       "      <td>1</td>\n",
       "      <td>Balgarchevo</td>\n",
       "      <td>1485</td>\n",
       "      <td>646</td>\n",
       "      <td>2710</td>\n",
       "      <td>73662</td>\n",
       "    </tr>\n",
       "    <tr>\n",
       "      <th>2</th>\n",
       "      <td>2</td>\n",
       "      <td>Belasitsa</td>\n",
       "      <td>654</td>\n",
       "      <td>299</td>\n",
       "      <td>1104</td>\n",
       "      <td>27318</td>\n",
       "    </tr>\n",
       "    <tr>\n",
       "      <th>3</th>\n",
       "      <td>3</td>\n",
       "      <td>Belo_Pole</td>\n",
       "      <td>192</td>\n",
       "      <td>25</td>\n",
       "      <td>573</td>\n",
       "      <td>250</td>\n",
       "    </tr>\n",
       "    <tr>\n",
       "      <th>4</th>\n",
       "      <td>4</td>\n",
       "      <td>Beslen</td>\n",
       "      <td>43</td>\n",
       "      <td>8</td>\n",
       "      <td>528</td>\n",
       "      <td>22</td>\n",
       "    </tr>\n",
       "  </tbody>\n",
       "</table>\n",
       "</div>"
      ],
      "text/plain": [
       "   Unnamed: 0       States  Health_indices1  Health_indices2  \\\n",
       "0           0      Bachevo              417               66   \n",
       "1           1  Balgarchevo             1485              646   \n",
       "2           2    Belasitsa              654              299   \n",
       "3           3    Belo_Pole              192               25   \n",
       "4           4       Beslen               43                8   \n",
       "\n",
       "   Per_capita_income    GDP  \n",
       "0                564   1823  \n",
       "1               2710  73662  \n",
       "2               1104  27318  \n",
       "3                573    250  \n",
       "4                528     22  "
      ]
     },
     "execution_count": 82,
     "metadata": {},
     "output_type": "execute_result"
    }
   ],
   "source": [
    "df2.head()"
   ]
  },
  {
   "cell_type": "code",
   "execution_count": 93,
   "id": "c2b3cafa",
   "metadata": {},
   "outputs": [],
   "source": [
    "data = df2.iloc[:,2:6]"
   ]
  },
  {
   "cell_type": "code",
   "execution_count": 94,
   "id": "85faba28",
   "metadata": {},
   "outputs": [
    {
     "data": {
      "text/html": [
       "<div>\n",
       "<style scoped>\n",
       "    .dataframe tbody tr th:only-of-type {\n",
       "        vertical-align: middle;\n",
       "    }\n",
       "\n",
       "    .dataframe tbody tr th {\n",
       "        vertical-align: top;\n",
       "    }\n",
       "\n",
       "    .dataframe thead th {\n",
       "        text-align: right;\n",
       "    }\n",
       "</style>\n",
       "<table border=\"1\" class=\"dataframe\">\n",
       "  <thead>\n",
       "    <tr style=\"text-align: right;\">\n",
       "      <th></th>\n",
       "      <th>Health_indices1</th>\n",
       "      <th>Health_indices2</th>\n",
       "      <th>Per_capita_income</th>\n",
       "      <th>GDP</th>\n",
       "    </tr>\n",
       "  </thead>\n",
       "  <tbody>\n",
       "    <tr>\n",
       "      <th>count</th>\n",
       "      <td>296.000000</td>\n",
       "      <td>296.000000</td>\n",
       "      <td>296.000000</td>\n",
       "      <td>296.000000</td>\n",
       "    </tr>\n",
       "    <tr>\n",
       "      <th>mean</th>\n",
       "      <td>2629.195946</td>\n",
       "      <td>693.594595</td>\n",
       "      <td>2159.597973</td>\n",
       "      <td>174717.050676</td>\n",
       "    </tr>\n",
       "    <tr>\n",
       "      <th>std</th>\n",
       "      <td>2041.890970</td>\n",
       "      <td>469.738035</td>\n",
       "      <td>1493.663013</td>\n",
       "      <td>167439.128587</td>\n",
       "    </tr>\n",
       "    <tr>\n",
       "      <th>min</th>\n",
       "      <td>-10.000000</td>\n",
       "      <td>0.000000</td>\n",
       "      <td>500.000000</td>\n",
       "      <td>22.000000</td>\n",
       "    </tr>\n",
       "    <tr>\n",
       "      <th>25%</th>\n",
       "      <td>640.000000</td>\n",
       "      <td>173.500000</td>\n",
       "      <td>746.000000</td>\n",
       "      <td>8679.500000</td>\n",
       "    </tr>\n",
       "    <tr>\n",
       "      <th>50%</th>\n",
       "      <td>2446.500000</td>\n",
       "      <td>810.500000</td>\n",
       "      <td>1869.000000</td>\n",
       "      <td>135748.500000</td>\n",
       "    </tr>\n",
       "    <tr>\n",
       "      <th>75%</th>\n",
       "      <td>4102.750000</td>\n",
       "      <td>1076.000000</td>\n",
       "      <td>3138.750000</td>\n",
       "      <td>314751.250000</td>\n",
       "    </tr>\n",
       "    <tr>\n",
       "      <th>max</th>\n",
       "      <td>10219.000000</td>\n",
       "      <td>1508.000000</td>\n",
       "      <td>7049.000000</td>\n",
       "      <td>728575.000000</td>\n",
       "    </tr>\n",
       "  </tbody>\n",
       "</table>\n",
       "</div>"
      ],
      "text/plain": [
       "       Health_indices1  Health_indices2  Per_capita_income            GDP\n",
       "count       296.000000       296.000000         296.000000     296.000000\n",
       "mean       2629.195946       693.594595        2159.597973  174717.050676\n",
       "std        2041.890970       469.738035        1493.663013  167439.128587\n",
       "min         -10.000000         0.000000         500.000000      22.000000\n",
       "25%         640.000000       173.500000         746.000000    8679.500000\n",
       "50%        2446.500000       810.500000        1869.000000  135748.500000\n",
       "75%        4102.750000      1076.000000        3138.750000  314751.250000\n",
       "max       10219.000000      1508.000000        7049.000000  728575.000000"
      ]
     },
     "execution_count": 94,
     "metadata": {},
     "output_type": "execute_result"
    }
   ],
   "source": [
    "data.describe()"
   ]
  },
  {
   "cell_type": "code",
   "execution_count": 95,
   "id": "584fbc36",
   "metadata": {
    "scrolled": true
   },
   "outputs": [
    {
     "name": "stdout",
     "output_type": "stream",
     "text": [
      "<class 'pandas.core.frame.DataFrame'>\n",
      "RangeIndex: 296 entries, 0 to 295\n",
      "Data columns (total 4 columns):\n",
      " #   Column             Non-Null Count  Dtype\n",
      "---  ------             --------------  -----\n",
      " 0   Health_indices1    296 non-null    int64\n",
      " 1   Health_indices2    296 non-null    int64\n",
      " 2   Per_capita_income  296 non-null    int64\n",
      " 3   GDP                296 non-null    int64\n",
      "dtypes: int64(4)\n",
      "memory usage: 9.4 KB\n"
     ]
    }
   ],
   "source": [
    "data.info()"
   ]
  },
  {
   "cell_type": "markdown",
   "id": "c3507ec3",
   "metadata": {},
   "source": [
    "### Next, Scale the Data."
   ]
  },
  {
   "cell_type": "code",
   "execution_count": 105,
   "id": "68b83db1",
   "metadata": {},
   "outputs": [
    {
     "data": {
      "text/html": [
       "<div>\n",
       "<style scoped>\n",
       "    .dataframe tbody tr th:only-of-type {\n",
       "        vertical-align: middle;\n",
       "    }\n",
       "\n",
       "    .dataframe tbody tr th {\n",
       "        vertical-align: top;\n",
       "    }\n",
       "\n",
       "    .dataframe thead th {\n",
       "        text-align: right;\n",
       "    }\n",
       "</style>\n",
       "<table border=\"1\" class=\"dataframe\">\n",
       "  <thead>\n",
       "    <tr style=\"text-align: right;\">\n",
       "      <th></th>\n",
       "      <th>Health_indices1</th>\n",
       "      <th>Health_indices2</th>\n",
       "      <th>Per_capita_income</th>\n",
       "      <th>GDP</th>\n",
       "    </tr>\n",
       "  </thead>\n",
       "  <tbody>\n",
       "    <tr>\n",
       "      <th>0</th>\n",
       "      <td>-1.085240</td>\n",
       "      <td>-1.338315</td>\n",
       "      <td>-1.070054</td>\n",
       "      <td>-1.034327</td>\n",
       "    </tr>\n",
       "    <tr>\n",
       "      <th>1</th>\n",
       "      <td>-0.561310</td>\n",
       "      <td>-0.101493</td>\n",
       "      <td>0.369115</td>\n",
       "      <td>-0.604555</td>\n",
       "    </tr>\n",
       "    <tr>\n",
       "      <th>2</th>\n",
       "      <td>-0.968975</td>\n",
       "      <td>-0.841454</td>\n",
       "      <td>-0.707914</td>\n",
       "      <td>-0.881805</td>\n",
       "    </tr>\n",
       "    <tr>\n",
       "      <th>3</th>\n",
       "      <td>-1.195619</td>\n",
       "      <td>-1.425745</td>\n",
       "      <td>-1.064018</td>\n",
       "      <td>-1.043738</td>\n",
       "    </tr>\n",
       "    <tr>\n",
       "      <th>4</th>\n",
       "      <td>-1.268714</td>\n",
       "      <td>-1.461997</td>\n",
       "      <td>-1.094197</td>\n",
       "      <td>-1.045102</td>\n",
       "    </tr>\n",
       "  </tbody>\n",
       "</table>\n",
       "</div>"
      ],
      "text/plain": [
       "   Health_indices1  Health_indices2  Per_capita_income       GDP\n",
       "0        -1.085240        -1.338315          -1.070054 -1.034327\n",
       "1        -0.561310        -0.101493           0.369115 -0.604555\n",
       "2        -0.968975        -0.841454          -0.707914 -0.881805\n",
       "3        -1.195619        -1.425745          -1.064018 -1.043738\n",
       "4        -1.268714        -1.461997          -1.094197 -1.045102"
      ]
     },
     "execution_count": 105,
     "metadata": {},
     "output_type": "execute_result"
    }
   ],
   "source": [
    "## Scaling the data using the ZScore Scaling function\n",
    "\n",
    "from scipy.stats import zscore\n",
    "\n",
    "#apply the scaler to the data:\n",
    "data_scaled = data.apply(zscore)\n",
    "data_scaled.head()"
   ]
  },
  {
   "cell_type": "markdown",
   "id": "c697f6fe",
   "metadata": {},
   "source": [
    "### Hierarchical Clustering"
   ]
  },
  {
   "cell_type": "code",
   "execution_count": 106,
   "id": "697cae9c",
   "metadata": {},
   "outputs": [],
   "source": [
    "from matplotlib import pyplot as plt\n",
    "from scipy.cluster.hierarchy import dendrogram, linkage"
   ]
  },
  {
   "cell_type": "markdown",
   "id": "b258a3fe",
   "metadata": {},
   "source": [
    "### Here we need to create dendogram for Hierarchical Clustering using 'ward' linkage."
   ]
  },
  {
   "cell_type": "code",
   "execution_count": 107,
   "id": "4aa35bf7",
   "metadata": {
    "scrolled": true
   },
   "outputs": [
    {
     "data": {
      "image/png": "[encoded data removed]",
      "text/plain": [
       "<Figure size 432x288 with 1 Axes>"
      ]
     },
     "metadata": {
      "needs_background": "light"
     },
     "output_type": "display_data"
    }
   ],
   "source": [
    "wardlink = linkage(data, method = 'ward')\n",
    "dend = dendrogram(wardlink)"
   ]
  },
  {
   "cell_type": "markdown",
   "id": "e8b65779",
   "metadata": {},
   "source": [
    "### Let's look at last ten clusters."
   ]
  },
  {
   "cell_type": "code",
   "execution_count": 108,
   "id": "6b8d026b",
   "metadata": {},
   "outputs": [
    {
     "data": {
      "image/png": "[encoded data removed]",
      "text/plain": [
       "<Figure size 432x288 with 1 Axes>"
      ]
     },
     "metadata": {
      "needs_background": "light"
     },
     "output_type": "display_data"
    }
   ],
   "source": [
    "dend = dendrogram(wardlink,\n",
    "                 truncate_mode='lastp',\n",
    "                 p = 10,\n",
    "                 )"
   ]
  },
  {
   "cell_type": "markdown",
   "id": "e57e267c",
   "metadata": {},
   "source": [
    "### We will consider last 4 clusters and assign the cluster to each record in table."
   ]
  },
  {
   "cell_type": "code",
   "execution_count": 109,
   "id": "5165e1bf",
   "metadata": {},
   "outputs": [],
   "source": [
    "from scipy.cluster.hierarchy import fcluster"
   ]
  },
  {
   "cell_type": "code",
   "execution_count": 110,
   "id": "58e06fb0",
   "metadata": {},
   "outputs": [
    {
     "data": {
      "text/plain": [
       "array([3, 4, 3, 3, 3, 3, 3, 2, 3, 4, 3, 3, 3, 3, 3, 3, 2, 3, 3, 2, 4, 3,\n",
       "       3, 3, 4, 3, 4, 4, 4, 3, 4, 3, 3, 2, 3, 3, 2, 4, 3, 4, 3, 3, 4, 4,\n",
       "       4, 3, 3, 4, 3, 3, 3, 4, 3, 2, 3, 4, 4, 3, 3, 4, 4, 3, 3, 2, 4, 3,\n",
       "       4, 3, 3, 3, 3, 4, 3, 3, 3, 3, 4, 4, 3, 3, 3, 3, 3, 3, 3, 4, 3, 3,\n",
       "       3, 1, 3, 3, 3, 4, 3, 3, 4, 3, 3, 4, 3, 3, 4, 3, 4, 3, 4, 4, 3, 3,\n",
       "       3, 2, 4, 4, 3, 3, 3, 4, 3, 3, 4, 3, 3, 3, 2, 3, 4, 3, 3, 4, 3, 3,\n",
       "       3, 4, 3, 3, 3, 3, 3, 4, 3, 4, 3, 3, 3, 4, 2, 3, 4, 3, 2, 2, 2, 2,\n",
       "       2, 2, 2, 2, 2, 2, 2, 2, 2, 2, 2, 2, 2, 2, 4, 2, 1, 2, 2, 2, 2, 2,\n",
       "       2, 2, 2, 2, 2, 2, 2, 2, 2, 4, 2, 2, 2, 4, 2, 2, 2, 1, 2, 2, 2, 2,\n",
       "       4, 2, 2, 2, 2, 2, 2, 2, 4, 2, 2, 2, 2, 2, 2, 2, 2, 2, 2, 4, 2, 1,\n",
       "       2, 2, 1, 2, 4, 2, 2, 2, 2, 2, 2, 2, 2, 2, 1, 2, 4, 4, 4, 4, 4, 4,\n",
       "       4, 4, 4, 4, 4, 4, 4, 4, 4, 4, 4, 4, 4, 4, 4, 4, 4, 4, 4, 4, 4, 4,\n",
       "       4, 4, 4, 4, 4, 4, 4, 4, 4, 4, 4, 4, 4, 4, 4, 4, 4, 4, 4, 4, 4, 4,\n",
       "       4, 4, 4, 4, 4, 4, 4, 4, 4, 4], dtype=int32)"
      ]
     },
     "execution_count": 110,
     "metadata": {},
     "output_type": "execute_result"
    }
   ],
   "source": [
    "clusters = fcluster(wardlink, 4, criterion='maxclust')\n",
    "clusters"
   ]
  },
  {
   "cell_type": "code",
   "execution_count": 136,
   "id": "4e87dd8c",
   "metadata": {},
   "outputs": [],
   "source": [
    "df2['clusters_Hie'] = clusters"
   ]
  },
  {
   "cell_type": "code",
   "execution_count": 137,
   "id": "9650cb6e",
   "metadata": {},
   "outputs": [
    {
     "data": {
      "text/html": [
       "<div>\n",
       "<style scoped>\n",
       "    .dataframe tbody tr th:only-of-type {\n",
       "        vertical-align: middle;\n",
       "    }\n",
       "\n",
       "    .dataframe tbody tr th {\n",
       "        vertical-align: top;\n",
       "    }\n",
       "\n",
       "    .dataframe thead th {\n",
       "        text-align: right;\n",
       "    }\n",
       "</style>\n",
       "<table border=\"1\" class=\"dataframe\">\n",
       "  <thead>\n",
       "    <tr style=\"text-align: right;\">\n",
       "      <th></th>\n",
       "      <th>Unnamed: 0</th>\n",
       "      <th>States</th>\n",
       "      <th>Health_indices1</th>\n",
       "      <th>Health_indices2</th>\n",
       "      <th>Per_capita_income</th>\n",
       "      <th>GDP</th>\n",
       "      <th>clusters_Hie</th>\n",
       "    </tr>\n",
       "  </thead>\n",
       "  <tbody>\n",
       "    <tr>\n",
       "      <th>0</th>\n",
       "      <td>0</td>\n",
       "      <td>Bachevo</td>\n",
       "      <td>417</td>\n",
       "      <td>66</td>\n",
       "      <td>564</td>\n",
       "      <td>1823</td>\n",
       "      <td>3</td>\n",
       "    </tr>\n",
       "    <tr>\n",
       "      <th>1</th>\n",
       "      <td>1</td>\n",
       "      <td>Balgarchevo</td>\n",
       "      <td>1485</td>\n",
       "      <td>646</td>\n",
       "      <td>2710</td>\n",
       "      <td>73662</td>\n",
       "      <td>4</td>\n",
       "    </tr>\n",
       "    <tr>\n",
       "      <th>2</th>\n",
       "      <td>2</td>\n",
       "      <td>Belasitsa</td>\n",
       "      <td>654</td>\n",
       "      <td>299</td>\n",
       "      <td>1104</td>\n",
       "      <td>27318</td>\n",
       "      <td>3</td>\n",
       "    </tr>\n",
       "    <tr>\n",
       "      <th>3</th>\n",
       "      <td>3</td>\n",
       "      <td>Belo_Pole</td>\n",
       "      <td>192</td>\n",
       "      <td>25</td>\n",
       "      <td>573</td>\n",
       "      <td>250</td>\n",
       "      <td>3</td>\n",
       "    </tr>\n",
       "    <tr>\n",
       "      <th>4</th>\n",
       "      <td>4</td>\n",
       "      <td>Beslen</td>\n",
       "      <td>43</td>\n",
       "      <td>8</td>\n",
       "      <td>528</td>\n",
       "      <td>22</td>\n",
       "      <td>3</td>\n",
       "    </tr>\n",
       "  </tbody>\n",
       "</table>\n",
       "</div>"
      ],
      "text/plain": [
       "   Unnamed: 0       States  Health_indices1  Health_indices2  \\\n",
       "0           0      Bachevo              417               66   \n",
       "1           1  Balgarchevo             1485              646   \n",
       "2           2    Belasitsa              654              299   \n",
       "3           3    Belo_Pole              192               25   \n",
       "4           4       Beslen               43                8   \n",
       "\n",
       "   Per_capita_income    GDP  clusters_Hie  \n",
       "0                564   1823             3  \n",
       "1               2710  73662             4  \n",
       "2               1104  27318             3  \n",
       "3                573    250             3  \n",
       "4                528     22             3  "
      ]
     },
     "execution_count": 137,
     "metadata": {},
     "output_type": "execute_result"
    }
   ],
   "source": [
    "df2.head()"
   ]
  },
  {
   "cell_type": "markdown",
   "id": "17760309",
   "metadata": {},
   "source": [
    "### K-Mean Clustering"
   ]
  },
  {
   "cell_type": "code",
   "execution_count": 118,
   "id": "3dfe872b",
   "metadata": {},
   "outputs": [],
   "source": [
    "from sklearn.cluster import KMeans "
   ]
  },
  {
   "cell_type": "markdown",
   "id": "fc0622b8",
   "metadata": {},
   "source": [
    "### For K-Mean clustering we need to define number for clusters first. "
   ]
  },
  {
   "cell_type": "code",
   "execution_count": 119,
   "id": "ca4a1ea7",
   "metadata": {},
   "outputs": [],
   "source": [
    "k_means = KMeans(n_clusters = 4)"
   ]
  },
  {
   "cell_type": "code",
   "execution_count": 120,
   "id": "85668fb3",
   "metadata": {},
   "outputs": [
    {
     "data": {
      "text/plain": [
       "KMeans(n_clusters=4)"
      ]
     },
     "execution_count": 120,
     "metadata": {},
     "output_type": "execute_result"
    }
   ],
   "source": [
    "k_means.fit(data_scaled)"
   ]
  },
  {
   "cell_type": "code",
   "execution_count": 121,
   "id": "5b9fdd93",
   "metadata": {},
   "outputs": [
    {
     "data": {
      "text/plain": [
       "array([3, 0, 3, 3, 3, 3, 3, 1, 3, 0, 3, 3, 3, 3, 3, 3, 2, 3, 3, 2, 0, 3,\n",
       "       3, 3, 0, 3, 3, 0, 0, 3, 3, 3, 3, 2, 3, 3, 2, 0, 3, 0, 3, 3, 0, 0,\n",
       "       0, 3, 3, 0, 3, 3, 3, 0, 3, 2, 3, 0, 0, 3, 3, 0, 0, 3, 3, 2, 0, 3,\n",
       "       0, 3, 3, 3, 3, 0, 3, 3, 3, 3, 0, 0, 3, 3, 3, 3, 3, 3, 3, 0, 3, 3,\n",
       "       3, 2, 3, 3, 3, 3, 3, 3, 0, 3, 3, 0, 3, 3, 1, 3, 0, 3, 0, 0, 3, 3,\n",
       "       3, 1, 0, 0, 3, 3, 3, 0, 3, 3, 0, 3, 3, 3, 1, 3, 0, 3, 3, 0, 3, 3,\n",
       "       3, 3, 3, 3, 3, 3, 3, 0, 3, 0, 3, 3, 3, 0, 2, 3, 0, 3, 1, 2, 2, 2,\n",
       "       2, 1, 2, 1, 1, 2, 2, 1, 2, 1, 2, 1, 1, 2, 1, 1, 2, 1, 2, 2, 2, 1,\n",
       "       2, 1, 1, 2, 1, 1, 2, 2, 2, 0, 2, 1, 2, 2, 1, 1, 1, 2, 2, 1, 2, 2,\n",
       "       1, 1, 1, 2, 1, 1, 2, 2, 0, 2, 2, 2, 2, 1, 2, 2, 2, 1, 2, 2, 1, 2,\n",
       "       2, 2, 2, 2, 0, 1, 2, 2, 2, 2, 2, 2, 1, 1, 2, 2, 0, 0, 0, 0, 0, 0,\n",
       "       0, 0, 3, 0, 0, 0, 0, 0, 0, 0, 0, 0, 0, 0, 0, 0, 0, 0, 0, 0, 0, 0,\n",
       "       0, 0, 0, 0, 0, 0, 0, 0, 0, 0, 0, 0, 0, 0, 0, 0, 0, 0, 0, 0, 0, 0,\n",
       "       0, 0, 0, 0, 0, 0, 0, 0, 0, 0], dtype=int32)"
      ]
     },
     "execution_count": 121,
     "metadata": {},
     "output_type": "execute_result"
    }
   ],
   "source": [
    "k_means.labels_"
   ]
  },
  {
   "cell_type": "markdown",
   "id": "3a8e50b4",
   "metadata": {},
   "source": [
    "### Elbow Method Analysis"
   ]
  },
  {
   "cell_type": "code",
   "execution_count": 123,
   "id": "112ca7e7",
   "metadata": {},
   "outputs": [],
   "source": [
    "wss =[] \n",
    "for i in range(1,11):\n",
    "    KM = KMeans(n_clusters=i)\n",
    "    KM.fit(data_scaled)\n",
    "    wss.append(KM.inertia_)"
   ]
  },
  {
   "cell_type": "code",
   "execution_count": 124,
   "id": "b73c7a18",
   "metadata": {},
   "outputs": [
    {
     "data": {
      "text/plain": [
       "[1184.0,\n",
       " 467.35180028481136,\n",
       " 259.2278544455929,\n",
       " 182.454671740563,\n",
       " 149.29817615540873,\n",
       " 116.85259378422676,\n",
       " 90.38643890433258,\n",
       " 79.54995816791346,\n",
       " 70.57549372378448,\n",
       " 63.78421726764109]"
      ]
     },
     "execution_count": 124,
     "metadata": {},
     "output_type": "execute_result"
    }
   ],
   "source": [
    "wss"
   ]
  },
  {
   "cell_type": "code",
   "execution_count": 125,
   "id": "f90e21b6",
   "metadata": {},
   "outputs": [
    {
     "data": {
      "text/plain": [
       "[<matplotlib.lines.Line2D at 0x7f7858667f10>]"
      ]
     },
     "execution_count": 125,
     "metadata": {},
     "output_type": "execute_result"
    },
    {
     "data": {
      "image/png": "[encoded data removed]",
      "text/plain": [
       "<Figure size 432x288 with 1 Axes>"
      ]
     },
     "metadata": {
      "needs_background": "light"
     },
     "output_type": "display_data"
    }
   ],
   "source": [
    "plt.plot(range(1,11), wss)"
   ]
  },
  {
   "cell_type": "markdown",
   "id": "6573227c",
   "metadata": {},
   "source": [
    "### We can observe that after 4, curve starts levelling."
   ]
  },
  {
   "cell_type": "code",
   "execution_count": 126,
   "id": "6cebecf3",
   "metadata": {},
   "outputs": [],
   "source": [
    "k_means = KMeans(n_clusters = 4)\n",
    "k_means.fit(data_scaled)\n",
    "labels = k_means.labels_"
   ]
  },
  {
   "cell_type": "markdown",
   "id": "45440100",
   "metadata": {},
   "source": [
    "### Assign cluster labels to the table."
   ]
  },
  {
   "cell_type": "code",
   "execution_count": 138,
   "id": "7f21a957",
   "metadata": {
    "scrolled": true
   },
   "outputs": [
    {
     "data": {
      "text/html": [
       "<div>\n",
       "<style scoped>\n",
       "    .dataframe tbody tr th:only-of-type {\n",
       "        vertical-align: middle;\n",
       "    }\n",
       "\n",
       "    .dataframe tbody tr th {\n",
       "        vertical-align: top;\n",
       "    }\n",
       "\n",
       "    .dataframe thead th {\n",
       "        text-align: right;\n",
       "    }\n",
       "</style>\n",
       "<table border=\"1\" class=\"dataframe\">\n",
       "  <thead>\n",
       "    <tr style=\"text-align: right;\">\n",
       "      <th></th>\n",
       "      <th>Unnamed: 0</th>\n",
       "      <th>States</th>\n",
       "      <th>Health_indices1</th>\n",
       "      <th>Health_indices2</th>\n",
       "      <th>Per_capita_income</th>\n",
       "      <th>GDP</th>\n",
       "      <th>clusters_Hie</th>\n",
       "      <th>clusters_KMean</th>\n",
       "    </tr>\n",
       "  </thead>\n",
       "  <tbody>\n",
       "    <tr>\n",
       "      <th>0</th>\n",
       "      <td>0</td>\n",
       "      <td>Bachevo</td>\n",
       "      <td>417</td>\n",
       "      <td>66</td>\n",
       "      <td>564</td>\n",
       "      <td>1823</td>\n",
       "      <td>3</td>\n",
       "      <td>1</td>\n",
       "    </tr>\n",
       "    <tr>\n",
       "      <th>1</th>\n",
       "      <td>1</td>\n",
       "      <td>Balgarchevo</td>\n",
       "      <td>1485</td>\n",
       "      <td>646</td>\n",
       "      <td>2710</td>\n",
       "      <td>73662</td>\n",
       "      <td>4</td>\n",
       "      <td>0</td>\n",
       "    </tr>\n",
       "    <tr>\n",
       "      <th>2</th>\n",
       "      <td>2</td>\n",
       "      <td>Belasitsa</td>\n",
       "      <td>654</td>\n",
       "      <td>299</td>\n",
       "      <td>1104</td>\n",
       "      <td>27318</td>\n",
       "      <td>3</td>\n",
       "      <td>1</td>\n",
       "    </tr>\n",
       "    <tr>\n",
       "      <th>3</th>\n",
       "      <td>3</td>\n",
       "      <td>Belo_Pole</td>\n",
       "      <td>192</td>\n",
       "      <td>25</td>\n",
       "      <td>573</td>\n",
       "      <td>250</td>\n",
       "      <td>3</td>\n",
       "      <td>1</td>\n",
       "    </tr>\n",
       "    <tr>\n",
       "      <th>4</th>\n",
       "      <td>4</td>\n",
       "      <td>Beslen</td>\n",
       "      <td>43</td>\n",
       "      <td>8</td>\n",
       "      <td>528</td>\n",
       "      <td>22</td>\n",
       "      <td>3</td>\n",
       "      <td>1</td>\n",
       "    </tr>\n",
       "  </tbody>\n",
       "</table>\n",
       "</div>"
      ],
      "text/plain": [
       "   Unnamed: 0       States  Health_indices1  Health_indices2  \\\n",
       "0           0      Bachevo              417               66   \n",
       "1           1  Balgarchevo             1485              646   \n",
       "2           2    Belasitsa              654              299   \n",
       "3           3    Belo_Pole              192               25   \n",
       "4           4       Beslen               43                8   \n",
       "\n",
       "   Per_capita_income    GDP  clusters_Hie  clusters_KMean  \n",
       "0                564   1823             3               1  \n",
       "1               2710  73662             4               0  \n",
       "2               1104  27318             3               1  \n",
       "3                573    250             3               1  \n",
       "4                528     22             3               1  "
      ]
     },
     "execution_count": 138,
     "metadata": {},
     "output_type": "execute_result"
    }
   ],
   "source": [
    "df2[\"clusters_KMean\"] = labels\n",
    "df2.head(5)"
   ]
  },
  {
   "cell_type": "markdown",
   "id": "dae12293",
   "metadata": {},
   "source": [
    "### Silhouette Score is used to exaluate the quality of clustering. Let's evaluate the K-mean Clustering quality."
   ]
  },
  {
   "cell_type": "code",
   "execution_count": 131,
   "id": "aaf5475c",
   "metadata": {},
   "outputs": [],
   "source": [
    "from sklearn.metrics import silhouette_samples, silhouette_score"
   ]
  },
  {
   "cell_type": "code",
   "execution_count": 132,
   "id": "822a907c",
   "metadata": {},
   "outputs": [
    {
     "data": {
      "text/plain": [
       "0.5519167397833937"
      ]
     },
     "execution_count": 132,
     "metadata": {},
     "output_type": "execute_result"
    }
   ],
   "source": [
    "silhouette_score(data_scaled,labels)"
   ]
  },
  {
   "cell_type": "markdown",
   "id": "f4460a56",
   "metadata": {},
   "source": [
    "### a Silhouette Score of 0.55 is considered good. It indicates a strong separation between clusters and suggests that the clustering is effective in distinguishing between data points in different clusters."
   ]
  },
  {
   "cell_type": "code",
   "execution_count": 133,
   "id": "93383e42",
   "metadata": {},
   "outputs": [],
   "source": [
    "sil_width = silhouette_samples(data_scaled,labels)"
   ]
  },
  {
   "cell_type": "markdown",
   "id": "a7dcb6dc",
   "metadata": {},
   "source": [
    "### Assign Silhouette Score to table."
   ]
  },
  {
   "cell_type": "code",
   "execution_count": 139,
   "id": "e0b442ce",
   "metadata": {},
   "outputs": [
    {
     "data": {
      "text/html": [
       "<div>\n",
       "<style scoped>\n",
       "    .dataframe tbody tr th:only-of-type {\n",
       "        vertical-align: middle;\n",
       "    }\n",
       "\n",
       "    .dataframe tbody tr th {\n",
       "        vertical-align: top;\n",
       "    }\n",
       "\n",
       "    .dataframe thead th {\n",
       "        text-align: right;\n",
       "    }\n",
       "</style>\n",
       "<table border=\"1\" class=\"dataframe\">\n",
       "  <thead>\n",
       "    <tr style=\"text-align: right;\">\n",
       "      <th></th>\n",
       "      <th>Unnamed: 0</th>\n",
       "      <th>States</th>\n",
       "      <th>Health_indices1</th>\n",
       "      <th>Health_indices2</th>\n",
       "      <th>Per_capita_income</th>\n",
       "      <th>GDP</th>\n",
       "      <th>clusters_Hie</th>\n",
       "      <th>clusters_KMean</th>\n",
       "      <th>sil_width</th>\n",
       "    </tr>\n",
       "  </thead>\n",
       "  <tbody>\n",
       "    <tr>\n",
       "      <th>0</th>\n",
       "      <td>0</td>\n",
       "      <td>Bachevo</td>\n",
       "      <td>417</td>\n",
       "      <td>66</td>\n",
       "      <td>564</td>\n",
       "      <td>1823</td>\n",
       "      <td>3</td>\n",
       "      <td>1</td>\n",
       "      <td>0.875386</td>\n",
       "    </tr>\n",
       "    <tr>\n",
       "      <th>1</th>\n",
       "      <td>1</td>\n",
       "      <td>Balgarchevo</td>\n",
       "      <td>1485</td>\n",
       "      <td>646</td>\n",
       "      <td>2710</td>\n",
       "      <td>73662</td>\n",
       "      <td>4</td>\n",
       "      <td>0</td>\n",
       "      <td>0.429125</td>\n",
       "    </tr>\n",
       "    <tr>\n",
       "      <th>2</th>\n",
       "      <td>2</td>\n",
       "      <td>Belasitsa</td>\n",
       "      <td>654</td>\n",
       "      <td>299</td>\n",
       "      <td>1104</td>\n",
       "      <td>27318</td>\n",
       "      <td>3</td>\n",
       "      <td>1</td>\n",
       "      <td>0.691122</td>\n",
       "    </tr>\n",
       "    <tr>\n",
       "      <th>3</th>\n",
       "      <td>3</td>\n",
       "      <td>Belo_Pole</td>\n",
       "      <td>192</td>\n",
       "      <td>25</td>\n",
       "      <td>573</td>\n",
       "      <td>250</td>\n",
       "      <td>3</td>\n",
       "      <td>1</td>\n",
       "      <td>0.872393</td>\n",
       "    </tr>\n",
       "    <tr>\n",
       "      <th>4</th>\n",
       "      <td>4</td>\n",
       "      <td>Beslen</td>\n",
       "      <td>43</td>\n",
       "      <td>8</td>\n",
       "      <td>528</td>\n",
       "      <td>22</td>\n",
       "      <td>3</td>\n",
       "      <td>1</td>\n",
       "      <td>0.858319</td>\n",
       "    </tr>\n",
       "  </tbody>\n",
       "</table>\n",
       "</div>"
      ],
      "text/plain": [
       "   Unnamed: 0       States  Health_indices1  Health_indices2  \\\n",
       "0           0      Bachevo              417               66   \n",
       "1           1  Balgarchevo             1485              646   \n",
       "2           2    Belasitsa              654              299   \n",
       "3           3    Belo_Pole              192               25   \n",
       "4           4       Beslen               43                8   \n",
       "\n",
       "   Per_capita_income    GDP  clusters_Hie  clusters_KMean  sil_width  \n",
       "0                564   1823             3               1   0.875386  \n",
       "1               2710  73662             4               0   0.429125  \n",
       "2               1104  27318             3               1   0.691122  \n",
       "3                573    250             3               1   0.872393  \n",
       "4                528     22             3               1   0.858319  "
      ]
     },
     "execution_count": 139,
     "metadata": {},
     "output_type": "execute_result"
    }
   ],
   "source": [
    "df2[\"sil_width\"] = sil_width\n",
    "df2.head(5)"
   ]
  },
  {
   "cell_type": "markdown",
   "id": "cc3e3c85",
   "metadata": {},
   "source": [
    "### Now, We need to compare two cluster methods. For that we will take the mean per cluster for both methods."
   ]
  },
  {
   "cell_type": "code",
   "execution_count": 145,
   "id": "86b3966d",
   "metadata": {},
   "outputs": [
    {
     "data": {
      "text/html": [
       "<div>\n",
       "<style scoped>\n",
       "    .dataframe tbody tr th:only-of-type {\n",
       "        vertical-align: middle;\n",
       "    }\n",
       "\n",
       "    .dataframe tbody tr th {\n",
       "        vertical-align: top;\n",
       "    }\n",
       "\n",
       "    .dataframe thead th {\n",
       "        text-align: right;\n",
       "    }\n",
       "</style>\n",
       "<table border=\"1\" class=\"dataframe\">\n",
       "  <thead>\n",
       "    <tr style=\"text-align: right;\">\n",
       "      <th>clusters_KMean</th>\n",
       "      <th>0</th>\n",
       "      <th>1</th>\n",
       "      <th>2</th>\n",
       "      <th>3</th>\n",
       "    </tr>\n",
       "  </thead>\n",
       "  <tbody>\n",
       "    <tr>\n",
       "      <th>Unnamed: 0</th>\n",
       "      <td>191.181818</td>\n",
       "      <td>78.372549</td>\n",
       "      <td>175.250000</td>\n",
       "      <td>176.779661</td>\n",
       "    </tr>\n",
       "    <tr>\n",
       "      <th>Health_indices1</th>\n",
       "      <td>2596.232323</td>\n",
       "      <td>517.460784</td>\n",
       "      <td>5146.444444</td>\n",
       "      <td>4799.355932</td>\n",
       "    </tr>\n",
       "    <tr>\n",
       "      <th>Health_indices2</th>\n",
       "      <td>787.131313</td>\n",
       "      <td>119.666667</td>\n",
       "      <td>1327.138889</td>\n",
       "      <td>1142.288136</td>\n",
       "    </tr>\n",
       "    <tr>\n",
       "      <th>Per_capita_income</th>\n",
       "      <td>2488.565657</td>\n",
       "      <td>698.205882</td>\n",
       "      <td>5047.083333</td>\n",
       "      <td>2372.220339</td>\n",
       "    </tr>\n",
       "    <tr>\n",
       "      <th>GDP</th>\n",
       "      <td>142035.676768</td>\n",
       "      <td>9981.362745</td>\n",
       "      <td>367196.916667</td>\n",
       "      <td>396907.237288</td>\n",
       "    </tr>\n",
       "    <tr>\n",
       "      <th>clusters_Hie</th>\n",
       "      <td>4.000000</td>\n",
       "      <td>3.058824</td>\n",
       "      <td>2.166667</td>\n",
       "      <td>1.966102</td>\n",
       "    </tr>\n",
       "    <tr>\n",
       "      <th>clusters_KMean</th>\n",
       "      <td>0.000000</td>\n",
       "      <td>1.000000</td>\n",
       "      <td>2.000000</td>\n",
       "      <td>3.000000</td>\n",
       "    </tr>\n",
       "    <tr>\n",
       "      <th>sil_width</th>\n",
       "      <td>0.436740</td>\n",
       "      <td>0.796662</td>\n",
       "      <td>0.366529</td>\n",
       "      <td>0.435177</td>\n",
       "    </tr>\n",
       "  </tbody>\n",
       "</table>\n",
       "</div>"
      ],
      "text/plain": [
       "clusters_KMean                 0            1              2              3\n",
       "Unnamed: 0            191.181818    78.372549     175.250000     176.779661\n",
       "Health_indices1      2596.232323   517.460784    5146.444444    4799.355932\n",
       "Health_indices2       787.131313   119.666667    1327.138889    1142.288136\n",
       "Per_capita_income    2488.565657   698.205882    5047.083333    2372.220339\n",
       "GDP                142035.676768  9981.362745  367196.916667  396907.237288\n",
       "clusters_Hie            4.000000     3.058824       2.166667       1.966102\n",
       "clusters_KMean          0.000000     1.000000       2.000000       3.000000\n",
       "sil_width               0.436740     0.796662       0.366529       0.435177"
      ]
     },
     "execution_count": 145,
     "metadata": {},
     "output_type": "execute_result"
    }
   ],
   "source": [
    "df2.groupby('clusters_KMean').apply(np.mean).T"
   ]
  },
  {
   "cell_type": "code",
   "execution_count": 146,
   "id": "b2210215",
   "metadata": {},
   "outputs": [
    {
     "data": {
      "text/html": [
       "<div>\n",
       "<style scoped>\n",
       "    .dataframe tbody tr th:only-of-type {\n",
       "        vertical-align: middle;\n",
       "    }\n",
       "\n",
       "    .dataframe tbody tr th {\n",
       "        vertical-align: top;\n",
       "    }\n",
       "\n",
       "    .dataframe thead th {\n",
       "        text-align: right;\n",
       "    }\n",
       "</style>\n",
       "<table border=\"1\" class=\"dataframe\">\n",
       "  <thead>\n",
       "    <tr style=\"text-align: right;\">\n",
       "      <th>clusters_Hie</th>\n",
       "      <th>1</th>\n",
       "      <th>2</th>\n",
       "      <th>3</th>\n",
       "      <th>4</th>\n",
       "    </tr>\n",
       "  </thead>\n",
       "  <tbody>\n",
       "    <tr>\n",
       "      <th>Unnamed: 0</th>\n",
       "      <td>187.833333</td>\n",
       "      <td>175.452381</td>\n",
       "      <td>75.114583</td>\n",
       "      <td>187.127273</td>\n",
       "    </tr>\n",
       "    <tr>\n",
       "      <th>Health_indices1</th>\n",
       "      <td>6649.333333</td>\n",
       "      <td>4857.559524</td>\n",
       "      <td>414.500000</td>\n",
       "      <td>2641.081818</td>\n",
       "    </tr>\n",
       "    <tr>\n",
       "      <th>Health_indices2</th>\n",
       "      <td>1044.000000</td>\n",
       "      <td>1223.023810</td>\n",
       "      <td>105.854167</td>\n",
       "      <td>783.127273</td>\n",
       "    </tr>\n",
       "    <tr>\n",
       "      <th>Per_capita_income</th>\n",
       "      <td>2299.833333</td>\n",
       "      <td>3422.583333</td>\n",
       "      <td>686.395833</td>\n",
       "      <td>2473.190909</td>\n",
       "    </tr>\n",
       "    <tr>\n",
       "      <th>GDP</th>\n",
       "      <td>687649.666667</td>\n",
       "      <td>372337.154762</td>\n",
       "      <td>5862.468750</td>\n",
       "      <td>143193.009091</td>\n",
       "    </tr>\n",
       "    <tr>\n",
       "      <th>clusters_Hie</th>\n",
       "      <td>1.000000</td>\n",
       "      <td>2.000000</td>\n",
       "      <td>3.000000</td>\n",
       "      <td>4.000000</td>\n",
       "    </tr>\n",
       "    <tr>\n",
       "      <th>clusters_KMean</th>\n",
       "      <td>3.000000</td>\n",
       "      <td>2.607143</td>\n",
       "      <td>1.000000</td>\n",
       "      <td>0.163636</td>\n",
       "    </tr>\n",
       "    <tr>\n",
       "      <th>sil_width</th>\n",
       "      <td>0.306996</td>\n",
       "      <td>0.422938</td>\n",
       "      <td>0.828088</td>\n",
       "      <td>0.422747</td>\n",
       "    </tr>\n",
       "  </tbody>\n",
       "</table>\n",
       "</div>"
      ],
      "text/plain": [
       "clusters_Hie                   1              2            3              4\n",
       "Unnamed: 0            187.833333     175.452381    75.114583     187.127273\n",
       "Health_indices1      6649.333333    4857.559524   414.500000    2641.081818\n",
       "Health_indices2      1044.000000    1223.023810   105.854167     783.127273\n",
       "Per_capita_income    2299.833333    3422.583333   686.395833    2473.190909\n",
       "GDP                687649.666667  372337.154762  5862.468750  143193.009091\n",
       "clusters_Hie            1.000000       2.000000     3.000000       4.000000\n",
       "clusters_KMean          3.000000       2.607143     1.000000       0.163636\n",
       "sil_width               0.306996       0.422938     0.828088       0.422747"
      ]
     },
     "execution_count": 146,
     "metadata": {},
     "output_type": "execute_result"
    }
   ],
   "source": [
    "df2.groupby('clusters_Hie').apply(np.mean).T"
   ]
  },
  {
   "cell_type": "markdown",
   "id": "106ffe5c",
   "metadata": {},
   "source": [
    "### After analysing above tables, We can conclude that there is not much differnce in clustering with both methods."
   ]
  },
  {
   "cell_type": "markdown",
   "id": "f09e2430",
   "metadata": {},
   "source": [
    "### End of Clustering"
   ]
  }
 ],
 "metadata": {
  "kernelspec": {
   "display_name": "Python 3 (ipykernel)",
   "language": "python",
   "name": "python3"
  },
  "language_info": {
   "codemirror_mode": {
    "name": "ipython",
    "version": 3
   },
   "file_extension": ".py",
   "mimetype": "text/x-python",
   "name": "python",
   "nbconvert_exporter": "python",
   "pygments_lexer": "ipython3",
   "version": "3.10.9"
  }
 },
 "nbformat": 4,
 "nbformat_minor": 5
}
